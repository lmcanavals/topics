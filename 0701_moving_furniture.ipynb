{
  "nbformat": 4,
  "nbformat_minor": 0,
  "metadata": {
    "colab": {
      "provenance": [],
      "authorship_tag": "ABX9TyPEiac1reWs4y6j9Erb8TDt",
      "include_colab_link": true
    },
    "kernelspec": {
      "name": "python3",
      "display_name": "Python 3"
    },
    "language_info": {
      "name": "python"
    }
  },
  "cells": [
    {
      "cell_type": "markdown",
      "metadata": {
        "id": "view-in-github",
        "colab_type": "text"
      },
      "source": [
        "<a href=\"https://colab.research.google.com/github/lmcanavals/topics/blob/main/0701_moving_furniture.ipynb\" target=\"_parent\"><img src=\"https://colab.research.google.com/assets/colab-badge.svg\" alt=\"Open In Colab\"/></a>"
      ]
    },
    {
      "cell_type": "markdown",
      "source": [
        "Item ($T_i$) | Movers($R_i$) | Time/minutes($D_i$)\n",
        " - | - | -\n",
        "Piano | 3 | 30\n",
        "Bed | 3 | 15\n",
        "Chair | 1 | 10\n",
        "Table | 2 | 15\n",
        "\n",
        "time_limit = 60\n",
        "\n",
        "resource limit = 4"
      ],
      "metadata": {
        "id": "akd_1jJ9sWVY"
      }
    },
    {
      "cell_type": "code",
      "execution_count": 1,
      "metadata": {
        "id": "9MaLUUDoaFSv"
      },
      "outputs": [],
      "source": [
        "!pip install ortools 1> /dev/null"
      ]
    },
    {
      "cell_type": "code",
      "source": [
        "from ortools.sat.python import cp_model"
      ],
      "metadata": {
        "id": "hcogF-VIadqy"
      },
      "execution_count": 2,
      "outputs": []
    },
    {
      "cell_type": "code",
      "source": [
        "model = cp_model.CpModel()\n",
        "solver = cp_model.CpSolver()\n",
        "\n",
        "D = [30, 15, 10, 15]\n",
        "R = [3, 3, 1, 2] # widths\n",
        "time_limit = 60\n",
        "resource_limit = 4\n",
        "n = len(D)\n",
        "\n",
        "\n",
        "S = [model.NewIntVar(0, time_limit, f\"S_{i}\") for i in range(n)] # start times\n",
        "E = [model.NewIntVar(0, time_limit, f\"E_{i}\") for i in range(n)] # end times\n",
        "intervals = [model.NewIntervalVar(S[i], D[i], E[i], f\"interval_{i}\") for i in range(n)]\n",
        "\n",
        "model.AddCumulative(intervals, R, resource_limit)\n",
        "\n",
        "obj_var = model.NewIntVar(0, time_limit, 'obj_var')\n",
        "model.AddMaxEquality(obj_var, E)\n",
        "model.Minimize(obj_var)\n",
        "\n",
        "status = solver.Solve(model)\n",
        "\n",
        "if status == cp_model.OPTIMAL:\n",
        "    print(f\":) {solver.ObjectiveValue()}\")\n",
        "    for i in range(n):\n",
        "        print(f\"Task {i}: start={solver.Value(S[i])}, end={solver.Value(E[i])}\")\n",
        "else:\n",
        "    print(\":(\")"
      ],
      "metadata": {
        "colab": {
          "base_uri": "https://localhost:8080/"
        },
        "id": "RdW89X0WalJl",
        "outputId": "e23e94c9-c582-428a-ea8d-938464ccf8e1"
      },
      "execution_count": 8,
      "outputs": [
        {
          "output_type": "stream",
          "name": "stdout",
          "text": [
            ":) 60.0\n",
            "Task 0: start=30, end=60\n",
            "Task 1: start=0, end=15\n",
            "Task 2: start=0, end=10\n",
            "Task 3: start=15, end=30\n"
          ]
        }
      ]
    },
    {
      "cell_type": "code",
      "source": [],
      "metadata": {
        "id": "P72V9yy9eSFr"
      },
      "execution_count": null,
      "outputs": []
    }
  ]
}