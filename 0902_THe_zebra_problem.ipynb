{
  "nbformat": 4,
  "nbformat_minor": 0,
  "metadata": {
    "colab": {
      "provenance": [],
      "authorship_tag": "ABX9TyMAvKqD/tRmC5wquYHe7oNO",
      "include_colab_link": true
    },
    "kernelspec": {
      "name": "python3",
      "display_name": "Python 3"
    },
    "language_info": {
      "name": "python"
    }
  },
  "cells": [
    {
      "cell_type": "markdown",
      "metadata": {
        "id": "view-in-github",
        "colab_type": "text"
      },
      "source": [
        "<a href=\"https://colab.research.google.com/github/lmcanavals/topics/blob/main/0902_THe_zebra_problem.ipynb\" target=\"_parent\"><img src=\"https://colab.research.google.com/assets/colab-badge.svg\" alt=\"Open In Colab\"/></a>"
      ]
    },
    {
      "cell_type": "markdown",
      "source": [
        "# Zebra puzzle\n",
        "* There are five houses.\n",
        "* The English man lives in the red house.\n",
        "* The Swede has a dog.\n",
        "* The Dane drinks tea.\n",
        "* The green house is immediately to the left of the white house.\n",
        "* They drink coffee in the green house.\n",
        "* The man who smokes Pall Mall has birds.\n",
        "* In the yellow house they smoke Dunhill.\n",
        "* In the middle house they drink milk.\n",
        "* The Norwegian lives in the first house.\n",
        "* The man who smokes Blend lives in the house next to the house with cats.\n",
        "* In a house next to the house where they have a horse, they smoke Dunhill.\n",
        "* The man who smokes Blue Master drinks beer.\n",
        "* The German smokes Prince.\n",
        "* The Norwegian lives next to the blue house.\n",
        "* They drink water in a house next to the house where they smoke Blend."
      ],
      "metadata": {
        "id": "m4TiuwFwuj37"
      }
    },
    {
      "cell_type": "code",
      "execution_count": 1,
      "metadata": {
        "id": "5upEln7IuJPr"
      },
      "outputs": [],
      "source": [
        "!pip install ortools 1> /dev/null"
      ]
    },
    {
      "cell_type": "code",
      "source": [
        "from ortools.sat.python import cp_model"
      ],
      "metadata": {
        "id": "Pq9Dkv45vqZM"
      },
      "execution_count": 2,
      "outputs": []
    },
    {
      "cell_type": "code",
      "source": [
        "model = cp_model.CpModel()\n",
        "# 1: English, 2: Swedish, 3: Dane, 4: German, 5: Norwegian\n",
        "N = [model.NewIntVar(1, 5, f\"N_{i}\") for i in range(5)]\n",
        "# Tea, Cofee, Milk, Beer, Water\n",
        "B = [model.NewIntVar(1, 5, f\"B_{i}\") for i in range(5)]\n",
        "# Dog, Birds, Cats, Horse, Zebra\n",
        "P = [model.NewIntVar(1, 5, f\"P_{i}\") for i in range(5)]\n",
        "# Red Green White, Blue, Yellow\n",
        "C = [model.NewIntVar(1, 5, f\"C_{i}\") for i in range(5)]\n",
        "# Pall Mall, Dunhill, Blue Master, Prince, Blend\n",
        "L = [model.NewIntVar(1, 5, f\"L_{i}\") for i in range(5)]"
      ],
      "metadata": {
        "id": "671RGxKqvxX8"
      },
      "execution_count": 3,
      "outputs": []
    },
    {
      "cell_type": "code",
      "source": [
        "model.AddAllDifferent(N)\n",
        "model.AddAllDifferent(B)\n",
        "model.AddAllDifferent(P)\n",
        "model.AddAllDifferent(C)\n",
        "model.AddAllDifferent(L)"
      ],
      "metadata": {
        "colab": {
          "base_uri": "https://localhost:8080/"
        },
        "id": "dvmlwk5PxLxF",
        "outputId": "8612b363-319d-4cfd-8394-0340d06cb6af"
      },
      "execution_count": 4,
      "outputs": [
        {
          "output_type": "execute_result",
          "data": {
            "text/plain": [
              "<ortools.sat.python.cp_model.Constraint at 0x7f7200d46620>"
            ]
          },
          "metadata": {},
          "execution_count": 4
        }
      ]
    },
    {
      "cell_type": "code",
      "source": [
        "def exists(model, x1, v1, x2, v2):\n",
        "    ex = [model.NewBoolVar(f\"e_{j}\") for j in range(5)]\n",
        "    for i in range(5):\n",
        "        model.Add(x1[i] == v1).OnlyEnforceIf(ex[i])\n",
        "        model.Add(x1[i] != v1).OnlyEnforceIf(ex[i].Not())\n",
        "        model.Add(x2[i] == v2).OnlyEnforceIf(ex[i])\n",
        "        model.Add(x2[i] != v2).OnlyEnforceIf(ex[i].Not())\n",
        "    model.Add(sum(ex) == 1)"
      ],
      "metadata": {
        "id": "bEJIFzIWxSMj"
      },
      "execution_count": 5,
      "outputs": []
    },
    {
      "cell_type": "code",
      "source": [
        "def neighbor(model, x1, v1, x2, v2):\n",
        "    n = [model.NewBoolVar(f\"n_{j}\") for j in range(4)]\n",
        "    for i in range(4):\n",
        "        b = [model.NewBoolVar(f\"b_{j}\") for j in range(2)]\n",
        "        model.Add(x1[i] == v1).OnlyEnforceIf(b[0])\n",
        "        model.Add(x1[i] != v1).OnlyEnforceIf(b[0].Not())\n",
        "        model.Add(x2[i+1] == v2).OnlyEnforceIf(b[1])\n",
        "        model.Add(x2[i+1] != v2).OnlyEnforceIf(b[1].Not())\n",
        "        model.Add(sum(b) == 2).OnlyEnforceIf(n[i])\n",
        "        model.Add(sum(b) != 2).OnlyEnforceIf(n[i].Not())\n",
        "    return n"
      ],
      "metadata": {
        "id": "hIlL1vhoyibO"
      },
      "execution_count": 6,
      "outputs": []
    },
    {
      "cell_type": "markdown",
      "source": [
        "* The English man lives in the red house."
      ],
      "metadata": {
        "id": "hY2APgo2zlKO"
      }
    },
    {
      "cell_type": "code",
      "source": [
        "exists(model, N, 1, C, 1)"
      ],
      "metadata": {
        "id": "jVQK9dOs0OTD"
      },
      "execution_count": 7,
      "outputs": []
    },
    {
      "cell_type": "markdown",
      "source": [
        "* The Swede has a dog.\n"
      ],
      "metadata": {
        "id": "oI23r0sQzlG8"
      }
    },
    {
      "cell_type": "code",
      "source": [
        "exists(model, N, 2, P, 1)"
      ],
      "metadata": {
        "id": "DRMF0g6j0W8B"
      },
      "execution_count": 8,
      "outputs": []
    },
    {
      "cell_type": "markdown",
      "source": [
        "* The Dane drinks tea."
      ],
      "metadata": {
        "id": "MhUeNqBnzlEL"
      }
    },
    {
      "cell_type": "code",
      "source": [
        "exists(model, N, 3, B, 1)"
      ],
      "metadata": {
        "id": "A_ZGbS0Y0d5G"
      },
      "execution_count": 9,
      "outputs": []
    },
    {
      "cell_type": "markdown",
      "source": [
        "* The green house is immediately to the left of the white house.\n"
      ],
      "metadata": {
        "id": "2Xb0zoftzlBT"
      }
    },
    {
      "cell_type": "code",
      "source": [
        "model.Add(sum(neighbor(model, C, 2, C, 3)) == 1)"
      ],
      "metadata": {
        "colab": {
          "base_uri": "https://localhost:8080/"
        },
        "id": "ButSeEiJ0jwB",
        "outputId": "4dae9d8c-5985-45ef-885a-f367d2bb2a10"
      },
      "execution_count": 10,
      "outputs": [
        {
          "output_type": "execute_result",
          "data": {
            "text/plain": [
              "<ortools.sat.python.cp_model.Constraint at 0x7f7200d458d0>"
            ]
          },
          "metadata": {},
          "execution_count": 10
        }
      ]
    },
    {
      "cell_type": "markdown",
      "source": [
        "* They drink coffee in the green house.\n"
      ],
      "metadata": {
        "id": "fxdy-MMOzk88"
      }
    },
    {
      "cell_type": "code",
      "source": [
        "exists(model, B, 2, C, 2)"
      ],
      "metadata": {
        "id": "wG-sR6AN2Ar9"
      },
      "execution_count": 11,
      "outputs": []
    },
    {
      "cell_type": "markdown",
      "source": [
        "* The man who smokes Pall Mall has birds.\n"
      ],
      "metadata": {
        "id": "5cz9awijzk5l"
      }
    },
    {
      "cell_type": "code",
      "source": [
        "exists(model, L, 1, P, 2)"
      ],
      "metadata": {
        "id": "4HtPnxK-2FOy"
      },
      "execution_count": 12,
      "outputs": []
    },
    {
      "cell_type": "markdown",
      "source": [
        "* In the yellow house they smoke Dunhill.\n"
      ],
      "metadata": {
        "id": "V8y0zURyzk2Z"
      }
    },
    {
      "cell_type": "code",
      "source": [
        "exists(model, C, 5, L, 2)"
      ],
      "metadata": {
        "id": "a_fwyF-y2N9o"
      },
      "execution_count": 13,
      "outputs": []
    },
    {
      "cell_type": "markdown",
      "source": [
        "* In the middle house they drink milk.\n"
      ],
      "metadata": {
        "id": "2rqoPO6Nzkxi"
      }
    },
    {
      "cell_type": "code",
      "source": [
        "model.Add(B[2] == 3)"
      ],
      "metadata": {
        "colab": {
          "base_uri": "https://localhost:8080/"
        },
        "id": "6lQRQ2_22T83",
        "outputId": "c356549a-340e-4a27-c744-8e853199ec70"
      },
      "execution_count": 14,
      "outputs": [
        {
          "output_type": "execute_result",
          "data": {
            "text/plain": [
              "<ortools.sat.python.cp_model.Constraint at 0x7f7200d70910>"
            ]
          },
          "metadata": {},
          "execution_count": 14
        }
      ]
    },
    {
      "cell_type": "markdown",
      "source": [
        "* The Norwegian lives in the first house.\n"
      ],
      "metadata": {
        "id": "3IPwt7gxzkue"
      }
    },
    {
      "cell_type": "code",
      "source": [
        "model.Add(N[0] == 5)"
      ],
      "metadata": {
        "colab": {
          "base_uri": "https://localhost:8080/"
        },
        "id": "7kjmHBCL2gEA",
        "outputId": "b63f61f6-c28a-47a0-ed95-3ba9031b5fea"
      },
      "execution_count": 15,
      "outputs": [
        {
          "output_type": "execute_result",
          "data": {
            "text/plain": [
              "<ortools.sat.python.cp_model.Constraint at 0x7f7200d70ca0>"
            ]
          },
          "metadata": {},
          "execution_count": 15
        }
      ]
    },
    {
      "cell_type": "markdown",
      "source": [
        "* The man who smokes Blend lives in the house next to the house with cats.\n"
      ],
      "metadata": {
        "id": "papmvbRfzkj6"
      }
    },
    {
      "cell_type": "code",
      "source": [
        "model.Add(sum(neighbor(model, L, 5, P, 3)) +\n",
        "          sum(neighbor(model, P, 3, L, 5)) == 1)"
      ],
      "metadata": {
        "colab": {
          "base_uri": "https://localhost:8080/"
        },
        "id": "IQ75j0U92mHt",
        "outputId": "1385cd52-6602-40f1-eb92-001b022ecb30"
      },
      "execution_count": 16,
      "outputs": [
        {
          "output_type": "execute_result",
          "data": {
            "text/plain": [
              "<ortools.sat.python.cp_model.Constraint at 0x7f7200d72650>"
            ]
          },
          "metadata": {},
          "execution_count": 16
        }
      ]
    },
    {
      "cell_type": "markdown",
      "source": [
        "* In a house next to the house where they have a horse, they smoke Dunhill.\n"
      ],
      "metadata": {
        "id": "MA2BYi620DHu"
      }
    },
    {
      "cell_type": "code",
      "source": [
        "model.Add(sum(neighbor(model, P, 4, L, 2)) +\n",
        "          sum(neighbor(model, L, 2, P, 4)) == 1)"
      ],
      "metadata": {
        "colab": {
          "base_uri": "https://localhost:8080/"
        },
        "id": "vOIEHmh33Jwr",
        "outputId": "6afcaacc-7fe4-4129-84ec-7813b05f71dd"
      },
      "execution_count": 17,
      "outputs": [
        {
          "output_type": "execute_result",
          "data": {
            "text/plain": [
              "<ortools.sat.python.cp_model.Constraint at 0x7f7200d70760>"
            ]
          },
          "metadata": {},
          "execution_count": 17
        }
      ]
    },
    {
      "cell_type": "markdown",
      "source": [
        "* The man who smokes Blue Master drinks beer.\n"
      ],
      "metadata": {
        "id": "ugN3Ce6s0C3Y"
      }
    },
    {
      "cell_type": "code",
      "source": [
        "exists(model, L, 3, B, 4)"
      ],
      "metadata": {
        "id": "pyOBSK5U3WxH"
      },
      "execution_count": 18,
      "outputs": []
    },
    {
      "cell_type": "markdown",
      "source": [
        "* The German smokes Prince.\n"
      ],
      "metadata": {
        "id": "3Nyi0qv50C0W"
      }
    },
    {
      "cell_type": "code",
      "source": [
        "exists(model, N, 4, L, 4)"
      ],
      "metadata": {
        "id": "gjDQMIYu3bqM"
      },
      "execution_count": 19,
      "outputs": []
    },
    {
      "cell_type": "markdown",
      "source": [
        "* The Norwegian lives next to the blue house.\n"
      ],
      "metadata": {
        "id": "5glYzgfq0Cwj"
      }
    },
    {
      "cell_type": "code",
      "source": [
        "model.Add(sum(neighbor(model, N, 5, C, 4)) +\n",
        "          sum(neighbor(model, C, 5, N, 5)) == 1)"
      ],
      "metadata": {
        "colab": {
          "base_uri": "https://localhost:8080/"
        },
        "id": "O1o9nlqg3giF",
        "outputId": "21cffb20-0a6a-4937-b66f-d3f8ca58186a"
      },
      "execution_count": 20,
      "outputs": [
        {
          "output_type": "execute_result",
          "data": {
            "text/plain": [
              "<ortools.sat.python.cp_model.Constraint at 0x7f7200d73040>"
            ]
          },
          "metadata": {},
          "execution_count": 20
        }
      ]
    },
    {
      "cell_type": "markdown",
      "source": [
        "* They drink water in a house next to the house where they smoke Blend.\n"
      ],
      "metadata": {
        "id": "hha-Aajm0KlW"
      }
    },
    {
      "cell_type": "code",
      "source": [
        "model.Add(sum(neighbor(model, B, 5, L, 5)) +\n",
        "          sum(neighbor(model, L, 5, B, 5)) == 1)\n"
      ],
      "metadata": {
        "colab": {
          "base_uri": "https://localhost:8080/"
        },
        "id": "eFBre7lFzZYR",
        "outputId": "d4b934cf-fabf-475b-ba2c-5b77a7ef8498"
      },
      "execution_count": 21,
      "outputs": [
        {
          "output_type": "execute_result",
          "data": {
            "text/plain": [
              "<ortools.sat.python.cp_model.Constraint at 0x7f7200d885b0>"
            ]
          },
          "metadata": {},
          "execution_count": 21
        }
      ]
    },
    {
      "cell_type": "markdown",
      "source": [
        "# IT'S SOLVING TIME"
      ],
      "metadata": {
        "id": "P8-6_xKu38qC"
      }
    },
    {
      "cell_type": "code",
      "source": [
        "solver = cp_model.CpSolver()\n",
        "status = solver.Solve(model)\n",
        "if status == cp_model.OPTIMAL:\n",
        "    print(\"N\", [solver.Value(x) for x in N])\n",
        "    print(\"B\", [solver.Value(x) for x in B])\n",
        "    print(\"P\", [solver.Value(x) for x in P])\n",
        "    print(\"C\", [solver.Value(x) for x in C])\n",
        "    print(\"L\", [solver.Value(x) for x in L])\n",
        "    Nz = [\"English\", \"Swedish\", \"Dane\", \"German\", \"Norwegian\"]\n",
        "    Bz = [\"Tea\", \"Coffee\", \"Milk\", \"Beer\", \"Water\"]\n",
        "    Pz = [\"Dog\", \"Birds\", \"Cats\", \"Horse\", \"Zebra\"]\n",
        "    Cz = [\"Red\", \"Green\", \"White\", \"Blue\", \"Yellow\"]\n",
        "    Lz = [\"Pall Mall\", \"Dunhill\", \"Blue Master\", \"Prince\", \"Blend\"]\n",
        "    for i in range(5):\n",
        "        print(f\"In the house {i+1}:\\t\",\n",
        "              f\"{Nz[solver.Value(N[i]) - 1]}\\t\",\n",
        "              f\"{Bz[solver.Value(B[i]) - 1]}\\t\",\n",
        "              f\"{Pz[solver.Value(P[i]) - 1]}\\t\",\n",
        "              f\"{Cz[solver.Value(C[i]) - 1]}\\t\",\n",
        "              f\"{Lz[solver.Value(L[i]) - 1]}\\t\")\n",
        "else:\n",
        "    print(\":(\")"
      ],
      "metadata": {
        "colab": {
          "base_uri": "https://localhost:8080/"
        },
        "id": "KWG9e-Rb36-7",
        "outputId": "973fabc9-2328-4f69-f298-830d8f6b1626"
      },
      "execution_count": 22,
      "outputs": [
        {
          "output_type": "stream",
          "name": "stdout",
          "text": [
            "N [5, 3, 1, 4, 2]\n",
            "B [5, 1, 3, 2, 4]\n",
            "P [3, 4, 2, 5, 1]\n",
            "C [5, 4, 1, 2, 3]\n",
            "L [2, 5, 1, 4, 3]\n",
            "In the house 1:\t Norwegian\t Water\t Cats\t Yellow\t Dunhill\t\n",
            "In the house 2:\t Dane\t Tea\t Horse\t Blue\t Blend\t\n",
            "In the house 3:\t English\t Milk\t Birds\t Red\t Pall Mall\t\n",
            "In the house 4:\t German\t Coffee\t Zebra\t Green\t Prince\t\n",
            "In the house 5:\t Swedish\t Beer\t Dog\t White\t Blue Master\t\n"
          ]
        }
      ]
    },
    {
      "cell_type": "code",
      "source": [],
      "metadata": {
        "id": "xL_Xolu35MdQ"
      },
      "execution_count": 22,
      "outputs": []
    }
  ]
}