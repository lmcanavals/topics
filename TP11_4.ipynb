{
  "nbformat": 4,
  "nbformat_minor": 0,
  "metadata": {
    "colab": {
      "provenance": [],
      "include_colab_link": true
    },
    "kernelspec": {
      "name": "python3",
      "display_name": "Python 3"
    }
  },
  "cells": [
    {
      "cell_type": "markdown",
      "metadata": {
        "id": "view-in-github",
        "colab_type": "text"
      },
      "source": [
        "<a href=\"https://colab.research.google.com/github/lmcanavals/topics/blob/main/TP11_4.ipynb\" target=\"_parent\"><img src=\"https://colab.research.google.com/assets/colab-badge.svg\" alt=\"Open In Colab\"/></a>"
      ]
    },
    {
      "cell_type": "code",
      "metadata": {
        "id": "t6Okyd138jid"
      },
      "source": [
        "#!pip install ipythonblocks &> /dev/null"
      ],
      "execution_count": 1,
      "outputs": []
    },
    {
      "cell_type": "code",
      "source": [
        "!curl -O https://raw.githubusercontent.com/lmcanavals/topics/main/w14/agents.py\n",
        "!curl -O https://raw.githubusercontent.com/lmcanavals/topics/main/w14/notebook.py\n",
        "!curl -O https://raw.githubusercontent.com/lmcanavals/topics/main/w14/utils.py\n",
        "!curl -O https://raw.githubusercontent.com/jiffyclub/ipythonblocks/master/ipythonblocks/ipythonblocks.py"
      ],
      "metadata": {
        "id": "tCULTXcHGl9U",
        "colab": {
          "base_uri": "https://localhost:8080/"
        },
        "outputId": "a0388ab0-1ca6-4e56-ffbb-b9f478dde5d7"
      },
      "execution_count": 2,
      "outputs": [
        {
          "output_type": "stream",
          "name": "stdout",
          "text": [
            "  % Total    % Received % Xferd  Average Speed   Time    Time     Time  Current\n",
            "                                 Dload  Upload   Total   Spent    Left  Speed\n",
            "100 35990  100 35990    0     0   390k      0 --:--:-- --:--:-- --:--:--  390k\n",
            "  % Total    % Received % Xferd  Average Speed   Time    Time     Time  Current\n",
            "                                 Dload  Upload   Total   Spent    Left  Speed\n",
            "100 43285  100 43285    0     0   257k      0 --:--:-- --:--:-- --:--:--  257k\n",
            "  % Total    % Received % Xferd  Average Speed   Time    Time     Time  Current\n",
            "                                 Dload  Upload   Total   Spent    Left  Speed\n",
            "100 22036  100 22036    0     0   259k      0 --:--:-- --:--:-- --:--:--  259k\n",
            "  % Total    % Received % Xferd  Average Speed   Time    Time     Time  Current\n",
            "                                 Dload  Upload   Total   Spent    Left  Speed\n",
            "100 39509  100 39509    0     0   332k      0 --:--:-- --:--:-- --:--:--  332k\n"
          ]
        }
      ]
    },
    {
      "cell_type": "code",
      "metadata": {
        "id": "W-m_CC2M9qXC"
      },
      "source": [
        "from agents import *"
      ],
      "execution_count": 3,
      "outputs": []
    },
    {
      "cell_type": "code",
      "metadata": {
        "id": "-lH2iAtU9tVP",
        "colab": {
          "base_uri": "https://localhost:8080/"
        },
        "outputId": "dacde9db-35b9-4f95-9b44-1b96d171d8ca"
      },
      "source": [
        "class BlindDog(Agent):\n",
        "  def eat(self, things):\n",
        "    print(\"Perro: comio algo en {}\".format(self.location))\n",
        "  def drink(self, things):\n",
        "    print(\"Perro: tomo agua en {}\".format(self.location))\n",
        "\n",
        "dog = BlindDog()"
      ],
      "execution_count": 4,
      "outputs": [
        {
          "output_type": "stream",
          "name": "stdout",
          "text": [
            "Can't find a valid program for BlindDog, falling back to default.\n"
          ]
        }
      ]
    },
    {
      "cell_type": "code",
      "metadata": {
        "id": "YCYp7fcp-xka",
        "colab": {
          "base_uri": "https://localhost:8080/"
        },
        "outputId": "f2cd7d90-86aa-4152-ec47-83e5e7662a9c"
      },
      "source": [
        "print(dog.alive)"
      ],
      "execution_count": 5,
      "outputs": [
        {
          "output_type": "stream",
          "name": "stdout",
          "text": [
            "True\n"
          ]
        }
      ]
    },
    {
      "cell_type": "code",
      "metadata": {
        "id": "PDHRcuz4-45K"
      },
      "source": [
        "#parque\n",
        "class Food(Thing):\n",
        "  pass\n",
        "\n",
        "class Water(Thing):\n",
        "  pass\n",
        "\n",
        "class Park(Environment):\n",
        "  def percept(self, agent):\n",
        "    return self.list_things_at(agent.location)\n",
        "\n",
        "  def execute_action(self, agent, action):\n",
        "    if action == \"move down\":\n",
        "      print(\"{} decicio moverse a {} en la posicion {}\".format(str(agent)[1:-1],action,agent.location))\n",
        "      agent.movedown()\n",
        "    elif action == \"eat\":\n",
        "      items = self.list_things_at(agent.location, tclass=Food)\n",
        "      if len(items) > 0:\n",
        "        if agent.eat(items[0]):\n",
        "          print(\"{} comio {} en la posicion {}\".format(str(agent)[1:-1],str(items[0]),agent.location))\n",
        "          self.delete_thing(items[0])\n",
        "    elif action == \"drink\":\n",
        "      items = self.list_things_at(agent.location, tclass=Water)\n",
        "      if len(items) > 0:\n",
        "        if agent.drink(items[0]):\n",
        "          print(\"{} tomo {} en la posicion {}\".format(str(agent)[1:-1],str(items[0]),agent.location))\n",
        "          self.delete_thing(items[0])\n",
        "\n",
        "  def is_done(self):\n",
        "    noEat = not any(isinstance(thing, Food) or isinstance(thing, Water) for thing in self.things)\n",
        "    dead = not any(agent.is_alive() for agent in self.agents)\n",
        "    return noEat or dead"
      ],
      "execution_count": 6,
      "outputs": []
    },
    {
      "cell_type": "code",
      "metadata": {
        "id": "o9Cci9PEAGdj"
      },
      "source": [
        "class BlindDog(Agent):\n",
        "  location = 1\n",
        "\n",
        "  def movedown(self):\n",
        "    self.location += 1\n",
        "\n",
        "  def eat(self, thing):\n",
        "    if isinstance(thing, Food):\n",
        "      #print(\"Perro: comio algo en {}\".format(self.location))\n",
        "      return True\n",
        "    return False\n",
        "\n",
        "  def drink(self, thing):\n",
        "    if isinstance(thing, Water):\n",
        "      #print(\"Perro: tomo agua en {}\".format(self.location))\n",
        "      return True\n",
        "    return False"
      ],
      "execution_count": 7,
      "outputs": []
    },
    {
      "cell_type": "code",
      "metadata": {
        "id": "tIpq47TeELqf"
      },
      "source": [
        "def mainprogram(detects):\n",
        "  for p in detects:\n",
        "    if isinstance(p, Food):\n",
        "      return \"eat\"\n",
        "    elif isinstance(p, Water):\n",
        "      return \"drink\"\n",
        "  return \"move down\""
      ],
      "execution_count": 8,
      "outputs": []
    },
    {
      "cell_type": "code",
      "metadata": {
        "id": "uAVPsMSLExHv",
        "colab": {
          "base_uri": "https://localhost:8080/"
        },
        "outputId": "cf579771-c4bd-470a-e21b-516111f56f3b"
      },
      "source": [
        "park = Park()\n",
        "dog = BlindDog(mainprogram)\n",
        "food = Food()\n",
        "water = Water()\n",
        "park.add_thing(dog, 1)\n",
        "park.add_thing(food, 5)\n",
        "park.add_thing(water, 7)\n",
        "\n",
        "park.run(5)"
      ],
      "execution_count": 9,
      "outputs": [
        {
          "output_type": "stream",
          "name": "stdout",
          "text": [
            "BlindDog decicio moverse a move down en la posicion 1\n",
            "BlindDog decicio moverse a move down en la posicion 2\n",
            "BlindDog decicio moverse a move down en la posicion 3\n",
            "BlindDog decicio moverse a move down en la posicion 4\n",
            "BlindDog comio <Food> en la posicion 5\n"
          ]
        }
      ]
    },
    {
      "cell_type": "code",
      "metadata": {
        "id": "mMmi2OI2FljA"
      },
      "source": [
        "class Park2D(GraphicEnvironment):\n",
        "    def percept(self, agent):\n",
        "        '''return a list of things that are in our agent's location'''\n",
        "        things = self.list_things_at(agent.location)\n",
        "        return things\n",
        "\n",
        "    def execute_action(self, agent, action):\n",
        "        '''changes the state of the environment based on what the agent does.'''\n",
        "        if action == \"move down\":\n",
        "            print('{} decided to {} at location: {}'.format(str(agent)[1:-1], action, agent.location))\n",
        "            agent.movedown()\n",
        "        elif action == \"eat\":\n",
        "            items = self.list_things_at(agent.location, tclass=Food)\n",
        "            if len(items) != 0:\n",
        "                if agent.eat(items[0]): #Have the dog eat the first item\n",
        "                    print('{} ate {} at location: {}'\n",
        "                          .format(str(agent)[1:-1], str(items[0])[1:-1], agent.location))\n",
        "                    self.delete_thing(items[0]) #Delete it from the Park after.\n",
        "        elif action == \"drink\":\n",
        "            items = self.list_things_at(agent.location, tclass=Water)\n",
        "            if len(items) != 0:\n",
        "                if agent.drink(items[0]): #Have the dog drink the first item\n",
        "                    print('{} drank {} at location: {}'\n",
        "                          .format(str(agent)[1:-1], str(items[0])[1:-1], agent.location))\n",
        "                    self.delete_thing(items[0]) #Delete it from the Park after.\n",
        "\n",
        "    def is_done(self):\n",
        "        '''By default, we're done when we can't find a live agent,\n",
        "        but to prevent killing our cute dog, we will stop before itself - when there is no more food or water'''\n",
        "        no_edibles = not any(isinstance(thing, Food) or isinstance(thing, Water) for thing in self.things)\n",
        "        dead_agents = not any(agent.is_alive() for agent in self.agents)\n",
        "        return dead_agents or no_edibles\n",
        "\n",
        "class BlindDog(Agent):\n",
        "    location = [0,1] # change location to a 2d value\n",
        "    direction = Direction(\"down\") # variable to store the direction our dog is facing\n",
        "\n",
        "    def movedown(self):\n",
        "        self.location[1] += 1\n",
        "\n",
        "    def eat(self, thing):\n",
        "        '''returns True upon success or False otherwise'''\n",
        "        if isinstance(thing, Food):\n",
        "            return True\n",
        "        return False\n",
        "\n",
        "    def drink(self, thing):\n",
        "        ''' returns True upon success or False otherwise'''\n",
        "        if isinstance(thing, Water):\n",
        "            return True\n",
        "        return False"
      ],
      "execution_count": 10,
      "outputs": []
    },
    {
      "cell_type": "code",
      "metadata": {
        "id": "e7B_3t47GNEA"
      },
      "source": [
        "park = Park2D(10,10, color={'BlindDog':(200,0,0),'Water':(0,200,200),'Food':(230,100,40)})\n",
        "dog = BlindDog(mainprogram)\n",
        "food = Food()\n",
        "water = Water()\n",
        "park.add_thing(dog, [0,1])\n",
        "park.add_thing(food, [8,5])\n",
        "park.add_thing(water, [4,7])\n",
        "\n",
        "water2 = Water()\n",
        "park.add_thing(water2, [0,5])\n",
        "\n",
        "park.run(100, delay=0)"
      ],
      "execution_count": null,
      "outputs": []
    },
    {
      "cell_type": "code",
      "source": [],
      "metadata": {
        "id": "P_WnIuzRepsl"
      },
      "execution_count": 11,
      "outputs": []
    }
  ]
}