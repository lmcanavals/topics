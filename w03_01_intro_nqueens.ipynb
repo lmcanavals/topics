{
  "nbformat": 4,
  "nbformat_minor": 0,
  "metadata": {
    "colab": {
      "provenance": [],
      "authorship_tag": "ABX9TyOS8YShk7lYQaSIF0hukNOQ",
      "include_colab_link": true
    },
    "kernelspec": {
      "name": "python3",
      "display_name": "Python 3"
    },
    "language_info": {
      "name": "python"
    }
  },
  "cells": [
    {
      "cell_type": "markdown",
      "metadata": {
        "id": "view-in-github",
        "colab_type": "text"
      },
      "source": [
        "<a href=\"https://colab.research.google.com/github/lmcanavals/topics/blob/main/w03_01_intro_nqueens.ipynb\" target=\"_parent\"><img src=\"https://colab.research.google.com/assets/colab-badge.svg\" alt=\"Open In Colab\"/></a>"
      ]
    },
    {
      "cell_type": "code",
      "execution_count": null,
      "metadata": {
        "colab": {
          "base_uri": "https://localhost:8080/"
        },
        "id": "xsvTCDJP7KBw",
        "outputId": "9d78a015-9294-49da-efca-f363334353b8"
      },
      "outputs": [
        {
          "output_type": "stream",
          "name": "stdout",
          "text": [
            "2 1 3\n"
          ]
        }
      ],
      "source": [
        "for x1 in [1, 2]:\n",
        "    for x2 in [1, 2]:\n",
        "        if x1 != x2:\n",
        "            for x3 in [1, 2, 3]:\n",
        "                if x1 != x3 and x2 != x3:\n",
        "                    if 3*x1 + x2 + x3 == 10:\n",
        "                        print(x1, x2, x3)"
      ]
    },
    {
      "cell_type": "code",
      "source": [
        "!pip install python-constraint"
      ],
      "metadata": {
        "colab": {
          "base_uri": "https://localhost:8080/"
        },
        "id": "dPTNwlUV8HXH",
        "outputId": "97366157-f4ad-4609-f7e3-014868707034"
      },
      "execution_count": null,
      "outputs": [
        {
          "output_type": "stream",
          "name": "stdout",
          "text": [
            "Looking in indexes: https://pypi.org/simple, https://us-python.pkg.dev/colab-wheels/public/simple/\n",
            "Collecting python-constraint\n",
            "  Downloading python-constraint-1.4.0.tar.bz2 (18 kB)\n",
            "  Preparing metadata (setup.py) ... \u001b[?25l\u001b[?25hdone\n",
            "Building wheels for collected packages: python-constraint\n",
            "  Building wheel for python-constraint (setup.py) ... \u001b[?25l\u001b[?25hdone\n",
            "  Created wheel for python-constraint: filename=python_constraint-1.4.0-py2.py3-none-any.whl size=24082 sha256=edd611bb693d9770ca84435d9d43088ccd2a6d064844389db053c6a0fbd3fa50\n",
            "  Stored in directory: /root/.cache/pip/wheels/51/36/1f/c2ccb8dc4eba38c5215636d4ae2c480b32069cab0376bcc1a4\n",
            "Successfully built python-constraint\n",
            "Installing collected packages: python-constraint\n",
            "Successfully installed python-constraint-1.4.0\n"
          ]
        }
      ]
    },
    {
      "cell_type": "code",
      "source": [
        "from constraint import *"
      ],
      "metadata": {
        "id": "wneEumOo7m2V"
      },
      "execution_count": null,
      "outputs": []
    },
    {
      "cell_type": "code",
      "source": [
        "problem = Problem()\n",
        "\n",
        "problem.addVariables(['x1', 'x2'], [1, 2])\n",
        "problem.addVariables(['x3'], [1, 2, 3])\n",
        "\n",
        "def constraint(x1, x2, x3):\n",
        "    if x1 != x2 and x1 != x3  and x2 != x3:\n",
        "        if 3 * x1 + x2 + x3 == 10:\n",
        "            return True\n",
        "\n",
        "problem.addConstraint(constraint, ['x1', 'x2', 'x3'])\n",
        "\n",
        "solutions = problem.getSolutions()\n",
        "\n",
        "for solution in solutions:\n",
        "    print(solution)"
      ],
      "metadata": {
        "colab": {
          "base_uri": "https://localhost:8080/"
        },
        "id": "E0dBhIvu8F16",
        "outputId": "8cb30cfc-d970-4022-e4cd-4c7dd0b51b5c"
      },
      "execution_count": null,
      "outputs": [
        {
          "output_type": "stream",
          "name": "stdout",
          "text": [
            "{'x1': 2, 'x2': 1, 'x3': 3}\n"
          ]
        }
      ]
    },
    {
      "cell_type": "code",
      "source": [
        "import numpy as np\n",
        "import matplotlib.pyplot as plt\n",
        "\n",
        "def draw(board, piece=u\"\\u265b\"):\n",
        "  n = len(board)\n",
        "  board = [board[i] for i in range(n)]\n",
        "  b = np.zeros((n, n, 3), dtype=int)\n",
        "  b += [255, 128, 80]\n",
        "\n",
        "  b[::2, ::2] = [255, 225, 120]\n",
        "  b[1::2, 1::2] = [255, 225, 120]\n",
        "\n",
        "  _, ax = plt.subplots()\n",
        "  ax.imshow(b)\n",
        "  for row, col in enumerate(board):\n",
        "    ax.text(col, row, piece, fontsize=200/n, va=\"center\", ha=\"center\")\n",
        "  ax.set(xticks=[], yticks=[])\n",
        "  plt.show()\n"
      ],
      "metadata": {
        "id": "F457VDeDMbwo"
      },
      "execution_count": null,
      "outputs": []
    },
    {
      "cell_type": "code",
      "source": [
        "problem = Problem()\n",
        "numpieces = 4\n",
        "cols = range(numpieces)\n",
        "rows = range(numpieces)\n",
        "problem.addVariables(cols, rows)\n",
        "for col1 in cols:\n",
        "    for col2 in cols:\n",
        "        if col1 < col2:\n",
        "            problem.addConstraint(lambda row1, row2: row1 != row2,\n",
        "                                  (col1, col2))\n",
        "solutions = problem.getSolutions()\n",
        "solutions"
      ],
      "metadata": {
        "colab": {
          "base_uri": "https://localhost:8080/"
        },
        "id": "SY0leVO39KSb",
        "outputId": "48e9b660-0d62-4f21-d8f7-587c987800c8"
      },
      "execution_count": null,
      "outputs": [
        {
          "output_type": "execute_result",
          "data": {
            "text/plain": [
              "[{0: 3, 1: 2, 2: 1, 3: 0},\n",
              " {0: 3, 1: 2, 2: 0, 3: 1},\n",
              " {0: 3, 1: 1, 2: 2, 3: 0},\n",
              " {0: 3, 1: 1, 2: 0, 3: 2},\n",
              " {0: 3, 1: 0, 2: 1, 3: 2},\n",
              " {0: 3, 1: 0, 2: 2, 3: 1},\n",
              " {0: 2, 1: 3, 2: 0, 3: 1},\n",
              " {0: 2, 1: 3, 2: 1, 3: 0},\n",
              " {0: 2, 1: 1, 2: 3, 3: 0},\n",
              " {0: 2, 1: 1, 2: 0, 3: 3},\n",
              " {0: 2, 1: 0, 2: 1, 3: 3},\n",
              " {0: 2, 1: 0, 2: 3, 3: 1},\n",
              " {0: 1, 1: 2, 2: 0, 3: 3},\n",
              " {0: 1, 1: 2, 2: 3, 3: 0},\n",
              " {0: 1, 1: 3, 2: 2, 3: 0},\n",
              " {0: 1, 1: 3, 2: 0, 3: 2},\n",
              " {0: 1, 1: 0, 2: 3, 3: 2},\n",
              " {0: 1, 1: 0, 2: 2, 3: 3},\n",
              " {0: 0, 1: 1, 2: 3, 3: 2},\n",
              " {0: 0, 1: 1, 2: 2, 3: 3},\n",
              " {0: 0, 1: 2, 2: 1, 3: 3},\n",
              " {0: 0, 1: 2, 2: 3, 3: 1},\n",
              " {0: 0, 1: 3, 2: 2, 3: 1},\n",
              " {0: 0, 1: 3, 2: 1, 3: 2}]"
            ]
          },
          "metadata": {},
          "execution_count": 10
        }
      ]
    },
    {
      "cell_type": "code",
      "source": [
        "draw(solutions[0], u\"\\u265c\")"
      ],
      "metadata": {
        "colab": {
          "base_uri": "https://localhost:8080/",
          "height": 406
        },
        "id": "G8qYj1n0MrNR",
        "outputId": "d8b50fba-445d-4849-f35a-08e9bed0dc02"
      },
      "execution_count": null,
      "outputs": [
        {
          "output_type": "display_data",
          "data": {
            "text/plain": [
              "<Figure size 640x480 with 1 Axes>"
            ],
            "image/png": "[encoded data removed]"
          },
          "metadata": {}
        }
      ]
    },
    {
      "cell_type": "code",
      "source": [
        "def test():\n",
        "    def tost():\n",
        "        print(x, y)\n",
        "\n",
        "    d = []\n",
        "    for x in range(2):\n",
        "        for y in range(3):\n",
        "            d.append(tost)\n",
        "\n",
        "    for f in d:\n",
        "        f()"
      ],
      "metadata": {
        "id": "VR0Ha6D_QDx6"
      },
      "execution_count": null,
      "outputs": []
    },
    {
      "cell_type": "code",
      "source": [
        "test()"
      ],
      "metadata": {
        "colab": {
          "base_uri": "https://localhost:8080/"
        },
        "id": "dKAHAx2kguqA",
        "outputId": "c158c730-276d-4350-f37a-957f027a1fcf"
      },
      "execution_count": null,
      "outputs": [
        {
          "output_type": "stream",
          "name": "stdout",
          "text": [
            "1 2\n",
            "1 2\n",
            "1 2\n",
            "1 2\n",
            "1 2\n",
            "1 2\n"
          ]
        }
      ]
    },
    {
      "cell_type": "code",
      "source": [
        "def f():\n",
        "    a, b = 0, 1\n",
        "    t = [a, b]\n",
        "    def x():\n",
        "        t[0], t[1] = t[1], sum(t)\n",
        "        return t[0]\n",
        "    return x\n",
        "\n",
        "y = f()\n",
        "for _ in range(5):\n",
        "    print(y())\n",
        "z = f()\n",
        "for _ in range(5):\n",
        "    print(y())\n",
        "for _ in range(5):\n",
        "    print(z())\n",
        "for _ in range(5):\n",
        "    print(y())"
      ],
      "metadata": {
        "colab": {
          "base_uri": "https://localhost:8080/"
        },
        "id": "71h1HBblgv4j",
        "outputId": "806c605a-cafa-4538-e772-90f667c58f47"
      },
      "execution_count": null,
      "outputs": [
        {
          "output_type": "stream",
          "name": "stdout",
          "text": [
            "1\n",
            "1\n",
            "2\n",
            "3\n",
            "5\n",
            "8\n",
            "13\n",
            "21\n",
            "34\n",
            "55\n",
            "1\n",
            "1\n",
            "2\n",
            "3\n",
            "5\n",
            "89\n",
            "144\n",
            "233\n",
            "377\n",
            "610\n"
          ]
        }
      ]
    },
    {
      "cell_type": "code",
      "source": [
        "problem = Problem()\n",
        "n = 4\n",
        "cols = range(n)\n",
        "rows = range(n)\n",
        "problem.addVariables(cols, rows)\n",
        "problem.addConstraint(AllDifferentConstraint())\n",
        "for i in range(n - 1):\n",
        "    for j in range(n):\n",
        "        if i != j:\n",
        "            def weird():\n",
        "                I, J = i, j\n",
        "                def f(x, y):\n",
        "                    return abs(x - y) != abs(I - J)\n",
        "                return f\n",
        "            problem.addConstraint(weird(), (i, j))\n",
        "\n",
        "solutions = problem.getSolutions()\n",
        "for solution in solutions:\n",
        "    draw(solution)"
      ],
      "metadata": {
        "colab": {
          "base_uri": "https://localhost:8080/",
          "height": 795
        },
        "id": "GInMSgApjMV5",
        "outputId": "b1cd7bb6-baba-4e0b-eae8-8d37cd97204b"
      },
      "execution_count": null,
      "outputs": [
        {
          "output_type": "display_data",
          "data": {
            "text/plain": [
              "<Figure size 640x480 with 1 Axes>"
            ],
            "image/png": "[encoded data removed]"
          },
          "metadata": {}
        },
        {
          "output_type": "display_data",
          "data": {
            "text/plain": [
              "<Figure size 640x480 with 1 Axes>"
            ],
            "image/png": "[encoded data removed]"
          },
          "metadata": {}
        }
      ]
    },
    {
      "cell_type": "code",
      "source": [
        "problem = Problem()\n",
        "board = [(i, j) for j in range(2) for i in range(2)]\n",
        "problem.addVariables(board, range(1, 10))\n"
      ],
      "metadata": {
        "id": "MGRZfUymkT14"
      },
      "execution_count": null,
      "outputs": []
    },
    {
      "cell_type": "code",
      "source": [],
      "metadata": {
        "id": "7-ddpXdxmPqZ"
      },
      "execution_count": null,
      "outputs": []
    }
  ]
}