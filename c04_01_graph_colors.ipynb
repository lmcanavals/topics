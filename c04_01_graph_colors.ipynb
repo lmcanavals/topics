{
  "nbformat": 4,
  "nbformat_minor": 0,
  "metadata": {
    "colab": {
      "provenance": [],
      "authorship_tag": "ABX9TyMyKMxUvTuSkMmuroCkD61L",
      "include_colab_link": true
    },
    "kernelspec": {
      "name": "python3",
      "display_name": "Python 3"
    },
    "language_info": {
      "name": "python"
    }
  },
  "cells": [
    {
      "cell_type": "markdown",
      "metadata": {
        "id": "view-in-github",
        "colab_type": "text"
      },
      "source": [
        "<a href=\"https://colab.research.google.com/github/lmcanavals/topics/blob/main/c04_01_graph_colors.ipynb\" target=\"_parent\"><img src=\"https://colab.research.google.com/assets/colab-badge.svg\" alt=\"Open In Colab\"/></a>"
      ]
    },
    {
      "cell_type": "code",
      "execution_count": 1,
      "metadata": {
        "colab": {
          "base_uri": "https://localhost:8080/"
        },
        "id": "9WDsgmYY_fjD",
        "outputId": "89885382-255e-432b-92af-c72d46b92a5a"
      },
      "outputs": [
        {
          "output_type": "stream",
          "name": "stdout",
          "text": [
            "Looking in indexes: https://pypi.org/simple, https://us-python.pkg.dev/colab-wheels/public/simple/\n",
            "Collecting python-constraint\n",
            "  Downloading python-constraint-1.4.0.tar.bz2 (18 kB)\n",
            "  Preparing metadata (setup.py) ... \u001b[?25l\u001b[?25hdone\n",
            "Building wheels for collected packages: python-constraint\n",
            "  Building wheel for python-constraint (setup.py) ... \u001b[?25l\u001b[?25hdone\n",
            "  Created wheel for python-constraint: filename=python_constraint-1.4.0-py2.py3-none-any.whl size=24082 sha256=a3313b062795864a8ce335c86c664857ee8492ad953dc279f030deb2c8f32b88\n",
            "  Stored in directory: /root/.cache/pip/wheels/51/36/1f/c2ccb8dc4eba38c5215636d4ae2c480b32069cab0376bcc1a4\n",
            "Successfully built python-constraint\n",
            "Installing collected packages: python-constraint\n",
            "Successfully installed python-constraint-1.4.0\n"
          ]
        }
      ],
      "source": [
        "!pip install python-constraint"
      ]
    },
    {
      "cell_type": "code",
      "source": [
        "from constraint import *"
      ],
      "metadata": {
        "id": "rZPTgKfWAFfT"
      },
      "execution_count": 3,
      "outputs": []
    },
    {
      "cell_type": "markdown",
      "source": [
        "# Propositonal logic problem satisfiability"
      ],
      "metadata": {
        "id": "8qpgsBUyCrhN"
      }
    },
    {
      "cell_type": "markdown",
      "source": [
        "$(p \\lor q) \\land (p \\lor \\neg q) \\land (\\neg p \\lor q)$"
      ],
      "metadata": {
        "id": "YCPPcxs1Cvpq"
      }
    },
    {
      "cell_type": "code",
      "source": [
        "problem = Problem()\n",
        "\n",
        "problem.addVariables(['p', 'q'], [False, True])\n",
        "\n",
        "def constraint(p, q):\n",
        "    return  (p or q) and (p or not q) and (not p or q)\n",
        "\n",
        "problem.addConstraint(constraint, ['p', 'q'])\n",
        "\n",
        "solutions = problem.getSolutions()\n",
        "\n",
        "for solution in solutions:\n",
        "    print(solution)"
      ],
      "metadata": {
        "colab": {
          "base_uri": "https://localhost:8080/"
        },
        "id": "yo8bMJPD_lUh",
        "outputId": "5a1944c3-a5ff-4303-ed55-579a903b7cd9"
      },
      "execution_count": 4,
      "outputs": [
        {
          "output_type": "stream",
          "name": "stdout",
          "text": [
            "{'p': True, 'q': True}\n"
          ]
        }
      ]
    },
    {
      "cell_type": "markdown",
      "source": [
        "# Graph coloring"
      ],
      "metadata": {
        "id": "H6mADgPWDWU9"
      }
    },
    {
      "cell_type": "code",
      "source": [
        "import graphviz as gv\n",
        "\n",
        "def drawG_al(G, colors):\n",
        "  colorname = [\"red\", \"orange\", \"lightblue\", \"purple\", \"magenta\"]\n",
        "  graph = gv.Graph(\"alegria\")\n",
        "  graph.graph_attr[\"layout\"] = \"sfdp\"\n",
        "  n = len(G)\n",
        "  added = set()\n",
        "  for u in range(n):\n",
        "    graph.node(str(u), style=\"filled\", color=colorname[colors[u]])\n",
        "  for u in range(n):\n",
        "    for v in G[u]:\n",
        "      if not (f\"{u},{v}\" in added or f\"{v},{u}\" in added):\n",
        "        added.add(f\"{u},{v}\")\n",
        "        added.add(f\"{v},{u}\")\n",
        "        graph.edge(str(u), str(v))\n",
        "  return graph"
      ],
      "metadata": {
        "id": "AObezTbvAD7g"
      },
      "execution_count": 46,
      "outputs": []
    },
    {
      "cell_type": "code",
      "source": [
        "G = [[1, 4, 5],\n",
        "     [0, 2, 6],\n",
        "     [1, 3, 7],\n",
        "     [2, 4, 8],\n",
        "     [0, 3, 9],\n",
        "     [0, 7, 8],\n",
        "     [1, 8, 9],\n",
        "     [2, 5, 9],\n",
        "     [3, 5, 6],\n",
        "     [4, 6, 7]]"
      ],
      "metadata": {
        "id": "5j_7x5TdETfJ"
      },
      "execution_count": 47,
      "outputs": []
    },
    {
      "cell_type": "code",
      "source": [
        "drawG_al(G, [1]*10)"
      ],
      "metadata": {
        "colab": {
          "base_uri": "https://localhost:8080/",
          "height": 568
        },
        "id": "ZitADFH4FHQI",
        "outputId": "8cc4d3f8-ce5e-4c58-bc60-375bc43fc9e7"
      },
      "execution_count": 48,
      "outputs": [
        {
          "output_type": "execute_result",
          "data": {
            "image/svg+xml": "<?xml version=\"1.0\" encoding=\"UTF-8\" standalone=\"no\"?>\n<!DOCTYPE svg PUBLIC \"-//W3C//DTD SVG 1.1//EN\"\n \"http://www.w3.org/Graphics/SVG/1.1/DTD/svg11.dtd\">\n<!-- Generated by graphviz version 2.43.0 (0)\n -->\n<!-- Title: alegria Pages: 1 -->\n<svg width=\"503pt\" height=\"410pt\"\n viewBox=\"0.00 0.00 502.90 410.04\" xmlns=\"http://www.w3.org/2000/svg\" xmlns:xlink=\"http://www.w3.org/1999/xlink\">\n<g id=\"graph0\" class=\"graph\" transform=\"scale(1 1) rotate(0) translate(4 406.04)\">\n<title>alegria</title>\n<polygon fill=\"white\" stroke=\"transparent\" points=\"-4,4 -4,-406.04 498.9,-406.04 498.9,4 -4,4\"/>\n<!-- 0 -->\n<g id=\"node1\" class=\"node\">\n<title>0</title>\n<ellipse fill=\"orange\" stroke=\"orange\" cx=\"320.94\" cy=\"-18\" rx=\"27\" ry=\"18\"/>\n<text text-anchor=\"middle\" x=\"320.94\" y=\"-14.3\" font-family=\"Times,serif\" font-size=\"14.00\">0</text>\n</g>\n<!-- 1 -->\n<g id=\"node2\" class=\"node\">\n<title>1</title>\n<ellipse fill=\"orange\" stroke=\"orange\" cx=\"171.76\" cy=\"-19.19\" rx=\"27\" ry=\"18\"/>\n<text text-anchor=\"middle\" x=\"171.76\" y=\"-15.49\" font-family=\"Times,serif\" font-size=\"14.00\">1</text>\n</g>\n<!-- 0&#45;&#45;1 -->\n<g id=\"edge1\" class=\"edge\">\n<title>0&#45;&#45;1</title>\n<path fill=\"none\" stroke=\"black\" d=\"M293.93,-18.22C266.98,-18.43 225.8,-18.76 198.83,-18.97\"/>\n</g>\n<!-- 4 -->\n<g id=\"node5\" class=\"node\">\n<title>4</title>\n<ellipse fill=\"orange\" stroke=\"orange\" cx=\"146.83\" cy=\"-227.54\" rx=\"27\" ry=\"18\"/>\n<text text-anchor=\"middle\" x=\"146.83\" y=\"-223.84\" font-family=\"Times,serif\" font-size=\"14.00\">4</text>\n</g>\n<!-- 0&#45;&#45;4 -->\n<g id=\"edge2\" class=\"edge\">\n<title>0&#45;&#45;4</title>\n<path fill=\"none\" stroke=\"black\" d=\"M307.86,-33.75C275.59,-72.58 192.5,-172.59 160.07,-211.61\"/>\n</g>\n<!-- 5 -->\n<g id=\"node6\" class=\"node\">\n<title>5</title>\n<ellipse fill=\"orange\" stroke=\"orange\" cx=\"467.9\" cy=\"-160.13\" rx=\"27\" ry=\"18\"/>\n<text text-anchor=\"middle\" x=\"467.9\" y=\"-156.43\" font-family=\"Times,serif\" font-size=\"14.00\">5</text>\n</g>\n<!-- 0&#45;&#45;5 -->\n<g id=\"edge3\" class=\"edge\">\n<title>0&#45;&#45;5</title>\n<path fill=\"none\" stroke=\"black\" d=\"M336.39,-32.94C364.54,-60.17 423.89,-117.57 452.21,-144.96\"/>\n</g>\n<!-- 2 -->\n<g id=\"node3\" class=\"node\">\n<title>2</title>\n<ellipse fill=\"orange\" stroke=\"orange\" cx=\"349.33\" cy=\"-226.11\" rx=\"27\" ry=\"18\"/>\n<text text-anchor=\"middle\" x=\"349.33\" y=\"-222.41\" font-family=\"Times,serif\" font-size=\"14.00\">2</text>\n</g>\n<!-- 1&#45;&#45;2 -->\n<g id=\"edge4\" class=\"edge\">\n<title>1&#45;&#45;2</title>\n<path fill=\"none\" stroke=\"black\" d=\"M185.4,-35.08C218.53,-73.69 302.96,-172.07 335.88,-210.45\"/>\n</g>\n<!-- 6 -->\n<g id=\"node7\" class=\"node\">\n<title>6</title>\n<ellipse fill=\"orange\" stroke=\"orange\" cx=\"27\" cy=\"-163.62\" rx=\"27\" ry=\"18\"/>\n<text text-anchor=\"middle\" x=\"27\" y=\"-159.92\" font-family=\"Times,serif\" font-size=\"14.00\">6</text>\n</g>\n<!-- 1&#45;&#45;6 -->\n<g id=\"edge5\" class=\"edge\">\n<title>1&#45;&#45;6</title>\n<path fill=\"none\" stroke=\"black\" d=\"M156.54,-34.37C128.67,-62.19 69.74,-120.98 42.01,-148.64\"/>\n</g>\n<!-- 3 -->\n<g id=\"node4\" class=\"node\">\n<title>3</title>\n<ellipse fill=\"orange\" stroke=\"orange\" cx=\"248.86\" cy=\"-354.28\" rx=\"27\" ry=\"18\"/>\n<text text-anchor=\"middle\" x=\"248.86\" y=\"-350.58\" font-family=\"Times,serif\" font-size=\"14.00\">3</text>\n</g>\n<!-- 2&#45;&#45;3 -->\n<g id=\"edge6\" class=\"edge\">\n<title>2&#45;&#45;3</title>\n<path fill=\"none\" stroke=\"black\" d=\"M336.81,-242.08C317.55,-266.64 280.89,-313.42 261.54,-338.11\"/>\n</g>\n<!-- 7 -->\n<g id=\"node8\" class=\"node\">\n<title>7</title>\n<ellipse fill=\"orange\" stroke=\"orange\" cx=\"389.44\" cy=\"-381.73\" rx=\"27\" ry=\"18\"/>\n<text text-anchor=\"middle\" x=\"389.44\" y=\"-378.03\" font-family=\"Times,serif\" font-size=\"14.00\">7</text>\n</g>\n<!-- 2&#45;&#45;7 -->\n<g id=\"edge7\" class=\"edge\">\n<title>2&#45;&#45;7</title>\n<path fill=\"none\" stroke=\"black\" d=\"M353.93,-243.96C361.63,-273.82 377.03,-333.57 384.77,-363.61\"/>\n</g>\n<!-- 3&#45;&#45;4 -->\n<g id=\"edge8\" class=\"edge\">\n<title>3&#45;&#45;4</title>\n<path fill=\"none\" stroke=\"black\" d=\"M235.94,-338.23C216.31,-313.85 179.21,-267.77 159.65,-243.47\"/>\n</g>\n<!-- 8 -->\n<g id=\"node9\" class=\"node\">\n<title>8</title>\n<ellipse fill=\"orange\" stroke=\"orange\" cx=\"247.65\" cy=\"-167.29\" rx=\"27\" ry=\"18\"/>\n<text text-anchor=\"middle\" x=\"247.65\" y=\"-163.59\" font-family=\"Times,serif\" font-size=\"14.00\">8</text>\n</g>\n<!-- 3&#45;&#45;8 -->\n<g id=\"edge9\" class=\"edge\">\n<title>3&#45;&#45;8</title>\n<path fill=\"none\" stroke=\"black\" d=\"M248.74,-336.01C248.51,-300.17 247.99,-221.04 247.76,-185.36\"/>\n</g>\n<!-- 9 -->\n<g id=\"node10\" class=\"node\">\n<title>9</title>\n<ellipse fill=\"orange\" stroke=\"orange\" cx=\"109.45\" cy=\"-384.04\" rx=\"27\" ry=\"18\"/>\n<text text-anchor=\"middle\" x=\"109.45\" y=\"-380.34\" font-family=\"Times,serif\" font-size=\"14.00\">9</text>\n</g>\n<!-- 4&#45;&#45;9 -->\n<g id=\"edge10\" class=\"edge\">\n<title>4&#45;&#45;9</title>\n<path fill=\"none\" stroke=\"black\" d=\"M142.55,-245.5C135.37,-275.52 121.02,-335.61 113.81,-365.82\"/>\n</g>\n<!-- 5&#45;&#45;7 -->\n<g id=\"edge11\" class=\"edge\">\n<title>5&#45;&#45;7</title>\n<path fill=\"none\" stroke=\"black\" d=\"M461.61,-177.89C446.88,-219.49 410.3,-322.82 395.65,-364.19\"/>\n</g>\n<!-- 5&#45;&#45;8 -->\n<g id=\"edge12\" class=\"edge\">\n<title>5&#45;&#45;8</title>\n<path fill=\"none\" stroke=\"black\" d=\"M440.89,-161.01C398.62,-162.38 317.28,-165.03 274.87,-166.41\"/>\n</g>\n<!-- 6&#45;&#45;8 -->\n<g id=\"edge13\" class=\"edge\">\n<title>6&#45;&#45;8</title>\n<path fill=\"none\" stroke=\"black\" d=\"M54.06,-164.07C96.4,-164.77 177.88,-166.13 220.37,-166.84\"/>\n</g>\n<!-- 6&#45;&#45;9 -->\n<g id=\"edge14\" class=\"edge\">\n<title>6&#45;&#45;9</title>\n<path fill=\"none\" stroke=\"black\" d=\"M33.61,-181.29C49.05,-222.56 87.34,-324.94 102.81,-366.29\"/>\n</g>\n<!-- 7&#45;&#45;9 -->\n<g id=\"edge15\" class=\"edge\">\n<title>7&#45;&#45;9</title>\n<path fill=\"none\" stroke=\"black\" d=\"M362.34,-381.96C308.82,-382.4 190.11,-383.38 136.57,-383.82\"/>\n</g>\n</g>\n</svg>\n",
            "text/plain": [
              "<graphviz.graphs.Graph at 0x7faf2b079730>"
            ]
          },
          "metadata": {},
          "execution_count": 48
        }
      ]
    },
    {
      "cell_type": "code",
      "source": [
        "problem = Problem()\n",
        "n = len(G)\n",
        "k = 3\n",
        "problem.addVariables(range(n), range(k))\n",
        "for u in range(n):\n",
        "    for v in G[u]:\n",
        "        problem.addConstraint(lambda x, y: x != y, (u, v))\n",
        "\n",
        "solution = problem.getSolution()\n",
        "colors = [-1]*n\n",
        "if solution:\n",
        "    print('here')\n",
        "    colors = [solution[i] for i in range(n)]\n",
        "    \n",
        "drawG_al(G, colors)"
      ],
      "metadata": {
        "colab": {
          "base_uri": "https://localhost:8080/",
          "height": 585
        },
        "id": "KLA8YmfiFMpa",
        "outputId": "3105519f-c3db-4567-c566-bc47004b6e91"
      },
      "execution_count": 51,
      "outputs": [
        {
          "output_type": "stream",
          "name": "stdout",
          "text": [
            "here\n"
          ]
        },
        {
          "output_type": "execute_result",
          "data": {
            "image/svg+xml": "<?xml version=\"1.0\" encoding=\"UTF-8\" standalone=\"no\"?>\n<!DOCTYPE svg PUBLIC \"-//W3C//DTD SVG 1.1//EN\"\n \"http://www.w3.org/Graphics/SVG/1.1/DTD/svg11.dtd\">\n<!-- Generated by graphviz version 2.43.0 (0)\n -->\n<!-- Title: alegria Pages: 1 -->\n<svg width=\"503pt\" height=\"410pt\"\n viewBox=\"0.00 0.00 502.90 410.04\" xmlns=\"http://www.w3.org/2000/svg\" xmlns:xlink=\"http://www.w3.org/1999/xlink\">\n<g id=\"graph0\" class=\"graph\" transform=\"scale(1 1) rotate(0) translate(4 406.04)\">\n<title>alegria</title>\n<polygon fill=\"white\" stroke=\"transparent\" points=\"-4,4 -4,-406.04 498.9,-406.04 498.9,4 -4,4\"/>\n<!-- 0 -->\n<g id=\"node1\" class=\"node\">\n<title>0</title>\n<ellipse fill=\"lightblue\" stroke=\"lightblue\" cx=\"320.94\" cy=\"-18\" rx=\"27\" ry=\"18\"/>\n<text text-anchor=\"middle\" x=\"320.94\" y=\"-14.3\" font-family=\"Times,serif\" font-size=\"14.00\">0</text>\n</g>\n<!-- 1 -->\n<g id=\"node2\" class=\"node\">\n<title>1</title>\n<ellipse fill=\"orange\" stroke=\"orange\" cx=\"171.76\" cy=\"-19.19\" rx=\"27\" ry=\"18\"/>\n<text text-anchor=\"middle\" x=\"171.76\" y=\"-15.49\" font-family=\"Times,serif\" font-size=\"14.00\">1</text>\n</g>\n<!-- 0&#45;&#45;1 -->\n<g id=\"edge1\" class=\"edge\">\n<title>0&#45;&#45;1</title>\n<path fill=\"none\" stroke=\"black\" d=\"M293.93,-18.22C266.98,-18.43 225.8,-18.76 198.83,-18.97\"/>\n</g>\n<!-- 4 -->\n<g id=\"node5\" class=\"node\">\n<title>4</title>\n<ellipse fill=\"red\" stroke=\"red\" cx=\"146.83\" cy=\"-227.54\" rx=\"27\" ry=\"18\"/>\n<text text-anchor=\"middle\" x=\"146.83\" y=\"-223.84\" font-family=\"Times,serif\" font-size=\"14.00\">4</text>\n</g>\n<!-- 0&#45;&#45;4 -->\n<g id=\"edge2\" class=\"edge\">\n<title>0&#45;&#45;4</title>\n<path fill=\"none\" stroke=\"black\" d=\"M307.86,-33.75C275.59,-72.58 192.5,-172.59 160.07,-211.61\"/>\n</g>\n<!-- 5 -->\n<g id=\"node6\" class=\"node\">\n<title>5</title>\n<ellipse fill=\"orange\" stroke=\"orange\" cx=\"467.9\" cy=\"-160.13\" rx=\"27\" ry=\"18\"/>\n<text text-anchor=\"middle\" x=\"467.9\" y=\"-156.43\" font-family=\"Times,serif\" font-size=\"14.00\">5</text>\n</g>\n<!-- 0&#45;&#45;5 -->\n<g id=\"edge3\" class=\"edge\">\n<title>0&#45;&#45;5</title>\n<path fill=\"none\" stroke=\"black\" d=\"M336.39,-32.94C364.54,-60.17 423.89,-117.57 452.21,-144.96\"/>\n</g>\n<!-- 2 -->\n<g id=\"node3\" class=\"node\">\n<title>2</title>\n<ellipse fill=\"lightblue\" stroke=\"lightblue\" cx=\"349.33\" cy=\"-226.11\" rx=\"27\" ry=\"18\"/>\n<text text-anchor=\"middle\" x=\"349.33\" y=\"-222.41\" font-family=\"Times,serif\" font-size=\"14.00\">2</text>\n</g>\n<!-- 1&#45;&#45;2 -->\n<g id=\"edge4\" class=\"edge\">\n<title>1&#45;&#45;2</title>\n<path fill=\"none\" stroke=\"black\" d=\"M185.4,-35.08C218.53,-73.69 302.96,-172.07 335.88,-210.45\"/>\n</g>\n<!-- 6 -->\n<g id=\"node7\" class=\"node\">\n<title>6</title>\n<ellipse fill=\"lightblue\" stroke=\"lightblue\" cx=\"27\" cy=\"-163.62\" rx=\"27\" ry=\"18\"/>\n<text text-anchor=\"middle\" x=\"27\" y=\"-159.92\" font-family=\"Times,serif\" font-size=\"14.00\">6</text>\n</g>\n<!-- 1&#45;&#45;6 -->\n<g id=\"edge5\" class=\"edge\">\n<title>1&#45;&#45;6</title>\n<path fill=\"none\" stroke=\"black\" d=\"M156.54,-34.37C128.67,-62.19 69.74,-120.98 42.01,-148.64\"/>\n</g>\n<!-- 3 -->\n<g id=\"node4\" class=\"node\">\n<title>3</title>\n<ellipse fill=\"orange\" stroke=\"orange\" cx=\"248.86\" cy=\"-354.28\" rx=\"27\" ry=\"18\"/>\n<text text-anchor=\"middle\" x=\"248.86\" y=\"-350.58\" font-family=\"Times,serif\" font-size=\"14.00\">3</text>\n</g>\n<!-- 2&#45;&#45;3 -->\n<g id=\"edge6\" class=\"edge\">\n<title>2&#45;&#45;3</title>\n<path fill=\"none\" stroke=\"black\" d=\"M336.81,-242.08C317.55,-266.64 280.89,-313.42 261.54,-338.11\"/>\n</g>\n<!-- 7 -->\n<g id=\"node8\" class=\"node\">\n<title>7</title>\n<ellipse fill=\"red\" stroke=\"red\" cx=\"389.44\" cy=\"-381.73\" rx=\"27\" ry=\"18\"/>\n<text text-anchor=\"middle\" x=\"389.44\" y=\"-378.03\" font-family=\"Times,serif\" font-size=\"14.00\">7</text>\n</g>\n<!-- 2&#45;&#45;7 -->\n<g id=\"edge7\" class=\"edge\">\n<title>2&#45;&#45;7</title>\n<path fill=\"none\" stroke=\"black\" d=\"M353.93,-243.96C361.63,-273.82 377.03,-333.57 384.77,-363.61\"/>\n</g>\n<!-- 3&#45;&#45;4 -->\n<g id=\"edge8\" class=\"edge\">\n<title>3&#45;&#45;4</title>\n<path fill=\"none\" stroke=\"black\" d=\"M235.94,-338.23C216.31,-313.85 179.21,-267.77 159.65,-243.47\"/>\n</g>\n<!-- 8 -->\n<g id=\"node9\" class=\"node\">\n<title>8</title>\n<ellipse fill=\"red\" stroke=\"red\" cx=\"247.65\" cy=\"-167.29\" rx=\"27\" ry=\"18\"/>\n<text text-anchor=\"middle\" x=\"247.65\" y=\"-163.59\" font-family=\"Times,serif\" font-size=\"14.00\">8</text>\n</g>\n<!-- 3&#45;&#45;8 -->\n<g id=\"edge9\" class=\"edge\">\n<title>3&#45;&#45;8</title>\n<path fill=\"none\" stroke=\"black\" d=\"M248.74,-336.01C248.51,-300.17 247.99,-221.04 247.76,-185.36\"/>\n</g>\n<!-- 9 -->\n<g id=\"node10\" class=\"node\">\n<title>9</title>\n<ellipse fill=\"orange\" stroke=\"orange\" cx=\"109.45\" cy=\"-384.04\" rx=\"27\" ry=\"18\"/>\n<text text-anchor=\"middle\" x=\"109.45\" y=\"-380.34\" font-family=\"Times,serif\" font-size=\"14.00\">9</text>\n</g>\n<!-- 4&#45;&#45;9 -->\n<g id=\"edge10\" class=\"edge\">\n<title>4&#45;&#45;9</title>\n<path fill=\"none\" stroke=\"black\" d=\"M142.55,-245.5C135.37,-275.52 121.02,-335.61 113.81,-365.82\"/>\n</g>\n<!-- 5&#45;&#45;7 -->\n<g id=\"edge11\" class=\"edge\">\n<title>5&#45;&#45;7</title>\n<path fill=\"none\" stroke=\"black\" d=\"M461.61,-177.89C446.88,-219.49 410.3,-322.82 395.65,-364.19\"/>\n</g>\n<!-- 5&#45;&#45;8 -->\n<g id=\"edge12\" class=\"edge\">\n<title>5&#45;&#45;8</title>\n<path fill=\"none\" stroke=\"black\" d=\"M440.89,-161.01C398.62,-162.38 317.28,-165.03 274.87,-166.41\"/>\n</g>\n<!-- 6&#45;&#45;8 -->\n<g id=\"edge13\" class=\"edge\">\n<title>6&#45;&#45;8</title>\n<path fill=\"none\" stroke=\"black\" d=\"M54.06,-164.07C96.4,-164.77 177.88,-166.13 220.37,-166.84\"/>\n</g>\n<!-- 6&#45;&#45;9 -->\n<g id=\"edge14\" class=\"edge\">\n<title>6&#45;&#45;9</title>\n<path fill=\"none\" stroke=\"black\" d=\"M33.61,-181.29C49.05,-222.56 87.34,-324.94 102.81,-366.29\"/>\n</g>\n<!-- 7&#45;&#45;9 -->\n<g id=\"edge15\" class=\"edge\">\n<title>7&#45;&#45;9</title>\n<path fill=\"none\" stroke=\"black\" d=\"M362.34,-381.96C308.82,-382.4 190.11,-383.38 136.57,-383.82\"/>\n</g>\n</g>\n</svg>\n",
            "text/plain": [
              "<graphviz.graphs.Graph at 0x7faf2b055610>"
            ]
          },
          "metadata": {},
          "execution_count": 51
        }
      ]
    },
    {
      "cell_type": "code",
      "source": [],
      "metadata": {
        "id": "XAjQujhGHJDC"
      },
      "execution_count": 35,
      "outputs": []
    }
  ]
}