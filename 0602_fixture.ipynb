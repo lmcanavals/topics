{
  "nbformat": 4,
  "nbformat_minor": 0,
  "metadata": {
    "colab": {
      "provenance": [],
      "authorship_tag": "ABX9TyMmldUth9hFqFNylt6yTGXo",
      "include_colab_link": true
    },
    "kernelspec": {
      "name": "python3",
      "display_name": "Python 3"
    },
    "language_info": {
      "name": "python"
    }
  },
  "cells": [
    {
      "cell_type": "markdown",
      "metadata": {
        "id": "view-in-github",
        "colab_type": "text"
      },
      "source": [
        "<a href=\"https://colab.research.google.com/github/lmcanavals/topics/blob/main/0602_fixture.ipynb\" target=\"_parent\"><img src=\"https://colab.research.google.com/assets/colab-badge.svg\" alt=\"Open In Colab\"/></a>"
      ]
    },
    {
      "cell_type": "code",
      "execution_count": 1,
      "metadata": {
        "colab": {
          "base_uri": "https://localhost:8080/"
        },
        "id": "eK1LqLSRAyxQ",
        "outputId": "9b61e583-3cda-409b-983c-69357444cf1f"
      },
      "outputs": [
        {
          "output_type": "stream",
          "name": "stdout",
          "text": [
            "Looking in indexes: https://pypi.org/simple, https://us-python.pkg.dev/colab-wheels/public/simple/\n",
            "Collecting ortools\n",
            "  Downloading ortools-9.6.2534-cp310-cp310-manylinux_2_17_x86_64.manylinux2014_x86_64.whl (16.4 MB)\n",
            "\u001b[2K     \u001b[90m━━━━━━━━━━━━━━━━━━━━━━━━━━━━━━━━━━━━━━━━\u001b[0m \u001b[32m16.4/16.4 MB\u001b[0m \u001b[31m48.6 MB/s\u001b[0m eta \u001b[36m0:00:00\u001b[0m\n",
            "\u001b[?25hRequirement already satisfied: numpy>=1.13.3 in /usr/local/lib/python3.10/dist-packages (from ortools) (1.22.4)\n",
            "Requirement already satisfied: scipy>=1.10.0 in /usr/local/lib/python3.10/dist-packages (from ortools) (1.10.1)\n",
            "Collecting protobuf>=4.21.12\n",
            "  Downloading protobuf-4.22.4-cp37-abi3-manylinux2014_x86_64.whl (302 kB)\n",
            "\u001b[2K     \u001b[90m━━━━━━━━━━━━━━━━━━━━━━━━━━━━━━━━━━━━━━\u001b[0m \u001b[32m302.4/302.4 kB\u001b[0m \u001b[31m12.1 MB/s\u001b[0m eta \u001b[36m0:00:00\u001b[0m\n",
            "\u001b[?25hRequirement already satisfied: absl-py>=0.13 in /usr/local/lib/python3.10/dist-packages (from ortools) (1.4.0)\n",
            "Installing collected packages: protobuf, ortools\n",
            "  Attempting uninstall: protobuf\n",
            "    Found existing installation: protobuf 3.20.3\n",
            "    Uninstalling protobuf-3.20.3:\n",
            "      Successfully uninstalled protobuf-3.20.3\n",
            "Successfully installed ortools-9.6.2534 protobuf-4.22.4\n"
          ]
        }
      ],
      "source": [
        "!pip install ortools"
      ]
    },
    {
      "cell_type": "code",
      "source": [
        "nombre_federacion = ['UEFA', 'AFC', \"CAF\", \"Conmebol\", \"Concacaf\", \"Repechaje\"]\n",
        "nombre_equipo = ['Bélgica', 'Francia', 'Inglaterra', 'España', 'Portugal', \n",
        "                 'Países Bajos', 'Dinamarca', 'Alemania', 'Suiza', 'Croacia', \n",
        "                 'Serbia', 'Polonia', \n",
        "                 'UEFA1', \n",
        "                 'Catar', \n",
        "                 'Irán', 'Japón', 'Corea del Sur', \n",
        "                 'Arabia Saudita', \n",
        "                 'Senegal', 'Marruecos', 'Túnez', 'Camerún', 'Ghana',\n",
        "                 'Brasil', 'Argentina', \n",
        "                 'Uruguay',\n",
        "                 'Ecuador', \n",
        "                 'México', 'EEUU', \n",
        "                 'Canadá',\n",
        "                 'AFC/Conmebol', 'OFC/Concacaf']"
      ],
      "metadata": {
        "id": "P_LJ5oGbA-aW"
      },
      "execution_count": 15,
      "outputs": []
    },
    {
      "cell_type": "code",
      "source": [
        "from ortools.sat.python import cp_model\n",
        "\n",
        "model = cp_model.CpModel()\n",
        "\n",
        "grupos = []\n",
        "for i in range(len(nombre_equipo)):\n",
        "    grupos.append([model.NewBoolVar(f\"grupo_{i}_{j}\") for j in range(8)])\n",
        "print(grupos)\n",
        "\n",
        "federacion = [model.NewIntVar(1, 6, f\"federacion_{i}\") for i in range(32)]\n",
        "print(federacion)\n",
        "\n",
        "bombo = [model.NewIntVar(1, 4, f\"bombo_{i}\") for i in range(32)]\n",
        "print(bombo)\n",
        "\n",
        "# 1    2   3   4         5           6\n",
        "# UEFA AFC CAF Conmebol  Concacaf\tRepechaje\n",
        "# 13   5   5   4         3           2\n",
        "for i in range(32):\n",
        "    if i < 13:\n",
        "        model.Add(federacion[i] == 1)\n",
        "    elif i < 18:\n",
        "        model.Add(federacion[i] == 2)\n",
        "    elif i < 23:\n",
        "        model.Add(federacion[i] == 3)\n",
        "    elif i < 27:\n",
        "        model.Add(federacion[i] == 4)\n",
        "    elif i < 30:\n",
        "        model.Add(federacion[i] == 5)\n",
        "    else:\n",
        "        model.Add(federacion[i] == 6)\n",
        "\n",
        "for i in range(32):\n",
        "    if i in [0, 1, 2, 3, 4] + [13] + [23, 24]:\n",
        "        model.Add(bombo[i] == 1)\n",
        "    elif i in [5, 6, 7, 8, 9] + [25] + [27, 28]:\n",
        "        model.Add(bombo[i] == 2)\n",
        "    elif i in [10, 11] + [14, 15, 16] + [18, 19, 20]:\n",
        "        model.Add(bombo[i] == 3)\n",
        "    else:\n",
        "        model.Add(bombo[i] == 4)\n",
        "\n",
        "for i in range(32):\n",
        "    model.Add(sum(grupos[i]) == 1)\n",
        "\n",
        "for j in range(8):\n",
        "    model.Add(sum([grupos[i][j] for i in range(32)]) == 4)\n",
        "\n",
        "grupos_federacion = []\n",
        "grupos_bombo = []\n",
        "for i in range(32):\n",
        "    grupos_federacion.append([model.NewIntVar(0, 1000, f\"gf_{i}_{j}\") for j in range(8)])\n",
        "    grupos_bombo.append([model.NewIntVar(0, 1000, f\"gv_{i}_{j}\") for j in range(8)])\n",
        "print(grupos_federacion)\n",
        "print(grupos_bombo)\n",
        "\n",
        "for i in range(32):\n",
        "    for j in range(8):\n",
        "        model.AddMultiplicationEquality(grupos_federacion[i][j], [federacion[i], grupos[i][j]])\n",
        "        model.AddMultiplicationEquality(grupos_bombo[i][j], [bombo[i], grupos[i][j]])\n",
        "\n",
        "def count_vars(model, x, val, c):\n",
        "    b = [model.NewBoolVar(f\"b{i}\") for i in range(len(x))]\n",
        "    for i in range(len(x)):\n",
        "        model.Add(x[i] == val).OnlyEnforceIf(b[i])\n",
        "        model.Add(x[i] != val).OnlyEnforceIf(b[i].Not())\n",
        "    model.Add(c == sum(b))\n",
        "\n",
        "count = {}\n",
        "for j in range(8):\n",
        "    for k in range(1,7):\n",
        "        count[(k, j)] = model.NewIntVar(0, 100, f\"count_{k}_{j}\")\n",
        "        count_vars(model, [grupos_federacion[i][j] for i in range(32)], k, count[(k, j)])\n",
        "        if k == 1:\n",
        "            model.Add(count[(k, j)] <= 2)\n",
        "        elif k > 1:\n",
        "            model.Add(count[(k, j)] <= 1)\n",
        "\n",
        "\n",
        "count_bombos = {}\n",
        "for j in range(8):\n",
        "    for k in range(1,5):\n",
        "        count_bombos[(k, j)] = model.NewIntVar(0, 100, f\"cb_{k}_{j}\")\n",
        "        count_vars(model, [grupos_bombo[i][j] for i in range(32)], k, count_bombos[(k, j)])\n",
        "        model.Add(count_bombos[(k, j)] <= 1)"
      ],
      "metadata": {
        "colab": {
          "base_uri": "https://localhost:8080/"
        },
        "id": "IVSjszIgBQGL",
        "outputId": "228f1377-aa4b-45b1-e703-e8a80075c5ef"
      },
      "execution_count": 13,
      "outputs": [
        {
          "output_type": "stream",
          "name": "stdout",
          "text": [
            "[[grupo_0_0(0..1), grupo_0_1(0..1), grupo_0_2(0..1), grupo_0_3(0..1), grupo_0_4(0..1), grupo_0_5(0..1), grupo_0_6(0..1), grupo_0_7(0..1)], [grupo_1_0(0..1), grupo_1_1(0..1), grupo_1_2(0..1), grupo_1_3(0..1), grupo_1_4(0..1), grupo_1_5(0..1), grupo_1_6(0..1), grupo_1_7(0..1)], [grupo_2_0(0..1), grupo_2_1(0..1), grupo_2_2(0..1), grupo_2_3(0..1), grupo_2_4(0..1), grupo_2_5(0..1), grupo_2_6(0..1), grupo_2_7(0..1)], [grupo_3_0(0..1), grupo_3_1(0..1), grupo_3_2(0..1), grupo_3_3(0..1), grupo_3_4(0..1), grupo_3_5(0..1), grupo_3_6(0..1), grupo_3_7(0..1)], [grupo_4_0(0..1), grupo_4_1(0..1), grupo_4_2(0..1), grupo_4_3(0..1), grupo_4_4(0..1), grupo_4_5(0..1), grupo_4_6(0..1), grupo_4_7(0..1)], [grupo_5_0(0..1), grupo_5_1(0..1), grupo_5_2(0..1), grupo_5_3(0..1), grupo_5_4(0..1), grupo_5_5(0..1), grupo_5_6(0..1), grupo_5_7(0..1)], [grupo_6_0(0..1), grupo_6_1(0..1), grupo_6_2(0..1), grupo_6_3(0..1), grupo_6_4(0..1), grupo_6_5(0..1), grupo_6_6(0..1), grupo_6_7(0..1)], [grupo_7_0(0..1), grupo_7_1(0..1), grupo_7_2(0..1), grupo_7_3(0..1), grupo_7_4(0..1), grupo_7_5(0..1), grupo_7_6(0..1), grupo_7_7(0..1)], [grupo_8_0(0..1), grupo_8_1(0..1), grupo_8_2(0..1), grupo_8_3(0..1), grupo_8_4(0..1), grupo_8_5(0..1), grupo_8_6(0..1), grupo_8_7(0..1)], [grupo_9_0(0..1), grupo_9_1(0..1), grupo_9_2(0..1), grupo_9_3(0..1), grupo_9_4(0..1), grupo_9_5(0..1), grupo_9_6(0..1), grupo_9_7(0..1)], [grupo_10_0(0..1), grupo_10_1(0..1), grupo_10_2(0..1), grupo_10_3(0..1), grupo_10_4(0..1), grupo_10_5(0..1), grupo_10_6(0..1), grupo_10_7(0..1)], [grupo_11_0(0..1), grupo_11_1(0..1), grupo_11_2(0..1), grupo_11_3(0..1), grupo_11_4(0..1), grupo_11_5(0..1), grupo_11_6(0..1), grupo_11_7(0..1)], [grupo_12_0(0..1), grupo_12_1(0..1), grupo_12_2(0..1), grupo_12_3(0..1), grupo_12_4(0..1), grupo_12_5(0..1), grupo_12_6(0..1), grupo_12_7(0..1)], [grupo_13_0(0..1), grupo_13_1(0..1), grupo_13_2(0..1), grupo_13_3(0..1), grupo_13_4(0..1), grupo_13_5(0..1), grupo_13_6(0..1), grupo_13_7(0..1)], [grupo_14_0(0..1), grupo_14_1(0..1), grupo_14_2(0..1), grupo_14_3(0..1), grupo_14_4(0..1), grupo_14_5(0..1), grupo_14_6(0..1), grupo_14_7(0..1)], [grupo_15_0(0..1), grupo_15_1(0..1), grupo_15_2(0..1), grupo_15_3(0..1), grupo_15_4(0..1), grupo_15_5(0..1), grupo_15_6(0..1), grupo_15_7(0..1)], [grupo_16_0(0..1), grupo_16_1(0..1), grupo_16_2(0..1), grupo_16_3(0..1), grupo_16_4(0..1), grupo_16_5(0..1), grupo_16_6(0..1), grupo_16_7(0..1)], [grupo_17_0(0..1), grupo_17_1(0..1), grupo_17_2(0..1), grupo_17_3(0..1), grupo_17_4(0..1), grupo_17_5(0..1), grupo_17_6(0..1), grupo_17_7(0..1)], [grupo_18_0(0..1), grupo_18_1(0..1), grupo_18_2(0..1), grupo_18_3(0..1), grupo_18_4(0..1), grupo_18_5(0..1), grupo_18_6(0..1), grupo_18_7(0..1)], [grupo_19_0(0..1), grupo_19_1(0..1), grupo_19_2(0..1), grupo_19_3(0..1), grupo_19_4(0..1), grupo_19_5(0..1), grupo_19_6(0..1), grupo_19_7(0..1)], [grupo_20_0(0..1), grupo_20_1(0..1), grupo_20_2(0..1), grupo_20_3(0..1), grupo_20_4(0..1), grupo_20_5(0..1), grupo_20_6(0..1), grupo_20_7(0..1)], [grupo_21_0(0..1), grupo_21_1(0..1), grupo_21_2(0..1), grupo_21_3(0..1), grupo_21_4(0..1), grupo_21_5(0..1), grupo_21_6(0..1), grupo_21_7(0..1)], [grupo_22_0(0..1), grupo_22_1(0..1), grupo_22_2(0..1), grupo_22_3(0..1), grupo_22_4(0..1), grupo_22_5(0..1), grupo_22_6(0..1), grupo_22_7(0..1)], [grupo_23_0(0..1), grupo_23_1(0..1), grupo_23_2(0..1), grupo_23_3(0..1), grupo_23_4(0..1), grupo_23_5(0..1), grupo_23_6(0..1), grupo_23_7(0..1)], [grupo_24_0(0..1), grupo_24_1(0..1), grupo_24_2(0..1), grupo_24_3(0..1), grupo_24_4(0..1), grupo_24_5(0..1), grupo_24_6(0..1), grupo_24_7(0..1)], [grupo_25_0(0..1), grupo_25_1(0..1), grupo_25_2(0..1), grupo_25_3(0..1), grupo_25_4(0..1), grupo_25_5(0..1), grupo_25_6(0..1), grupo_25_7(0..1)], [grupo_26_0(0..1), grupo_26_1(0..1), grupo_26_2(0..1), grupo_26_3(0..1), grupo_26_4(0..1), grupo_26_5(0..1), grupo_26_6(0..1), grupo_26_7(0..1)], [grupo_27_0(0..1), grupo_27_1(0..1), grupo_27_2(0..1), grupo_27_3(0..1), grupo_27_4(0..1), grupo_27_5(0..1), grupo_27_6(0..1), grupo_27_7(0..1)], [grupo_28_0(0..1), grupo_28_1(0..1), grupo_28_2(0..1), grupo_28_3(0..1), grupo_28_4(0..1), grupo_28_5(0..1), grupo_28_6(0..1), grupo_28_7(0..1)], [grupo_29_0(0..1), grupo_29_1(0..1), grupo_29_2(0..1), grupo_29_3(0..1), grupo_29_4(0..1), grupo_29_5(0..1), grupo_29_6(0..1), grupo_29_7(0..1)], [grupo_30_0(0..1), grupo_30_1(0..1), grupo_30_2(0..1), grupo_30_3(0..1), grupo_30_4(0..1), grupo_30_5(0..1), grupo_30_6(0..1), grupo_30_7(0..1)], [grupo_31_0(0..1), grupo_31_1(0..1), grupo_31_2(0..1), grupo_31_3(0..1), grupo_31_4(0..1), grupo_31_5(0..1), grupo_31_6(0..1), grupo_31_7(0..1)]]\n",
            "[federacion_0(1..6), federacion_1(1..6), federacion_2(1..6), federacion_3(1..6), federacion_4(1..6), federacion_5(1..6), federacion_6(1..6), federacion_7(1..6), federacion_8(1..6), federacion_9(1..6), federacion_10(1..6), federacion_11(1..6), federacion_12(1..6), federacion_13(1..6), federacion_14(1..6), federacion_15(1..6), federacion_16(1..6), federacion_17(1..6), federacion_18(1..6), federacion_19(1..6), federacion_20(1..6), federacion_21(1..6), federacion_22(1..6), federacion_23(1..6), federacion_24(1..6), federacion_25(1..6), federacion_26(1..6), federacion_27(1..6), federacion_28(1..6), federacion_29(1..6), federacion_30(1..6), federacion_31(1..6)]\n",
            "[bombo_0(1..4), bombo_1(1..4), bombo_2(1..4), bombo_3(1..4), bombo_4(1..4), bombo_5(1..4), bombo_6(1..4), bombo_7(1..4), bombo_8(1..4), bombo_9(1..4), bombo_10(1..4), bombo_11(1..4), bombo_12(1..4), bombo_13(1..4), bombo_14(1..4), bombo_15(1..4), bombo_16(1..4), bombo_17(1..4), bombo_18(1..4), bombo_19(1..4), bombo_20(1..4), bombo_21(1..4), bombo_22(1..4), bombo_23(1..4), bombo_24(1..4), bombo_25(1..4), bombo_26(1..4), bombo_27(1..4), bombo_28(1..4), bombo_29(1..4), bombo_30(1..4), bombo_31(1..4)]\n",
            "[[gf_0_0(0..1000), gf_0_1(0..1000), gf_0_2(0..1000), gf_0_3(0..1000), gf_0_4(0..1000), gf_0_5(0..1000), gf_0_6(0..1000), gf_0_7(0..1000)], [gf_1_0(0..1000), gf_1_1(0..1000), gf_1_2(0..1000), gf_1_3(0..1000), gf_1_4(0..1000), gf_1_5(0..1000), gf_1_6(0..1000), gf_1_7(0..1000)], [gf_2_0(0..1000), gf_2_1(0..1000), gf_2_2(0..1000), gf_2_3(0..1000), gf_2_4(0..1000), gf_2_5(0..1000), gf_2_6(0..1000), gf_2_7(0..1000)], [gf_3_0(0..1000), gf_3_1(0..1000), gf_3_2(0..1000), gf_3_3(0..1000), gf_3_4(0..1000), gf_3_5(0..1000), gf_3_6(0..1000), gf_3_7(0..1000)], [gf_4_0(0..1000), gf_4_1(0..1000), gf_4_2(0..1000), gf_4_3(0..1000), gf_4_4(0..1000), gf_4_5(0..1000), gf_4_6(0..1000), gf_4_7(0..1000)], [gf_5_0(0..1000), gf_5_1(0..1000), gf_5_2(0..1000), gf_5_3(0..1000), gf_5_4(0..1000), gf_5_5(0..1000), gf_5_6(0..1000), gf_5_7(0..1000)], [gf_6_0(0..1000), gf_6_1(0..1000), gf_6_2(0..1000), gf_6_3(0..1000), gf_6_4(0..1000), gf_6_5(0..1000), gf_6_6(0..1000), gf_6_7(0..1000)], [gf_7_0(0..1000), gf_7_1(0..1000), gf_7_2(0..1000), gf_7_3(0..1000), gf_7_4(0..1000), gf_7_5(0..1000), gf_7_6(0..1000), gf_7_7(0..1000)], [gf_8_0(0..1000), gf_8_1(0..1000), gf_8_2(0..1000), gf_8_3(0..1000), gf_8_4(0..1000), gf_8_5(0..1000), gf_8_6(0..1000), gf_8_7(0..1000)], [gf_9_0(0..1000), gf_9_1(0..1000), gf_9_2(0..1000), gf_9_3(0..1000), gf_9_4(0..1000), gf_9_5(0..1000), gf_9_6(0..1000), gf_9_7(0..1000)], [gf_10_0(0..1000), gf_10_1(0..1000), gf_10_2(0..1000), gf_10_3(0..1000), gf_10_4(0..1000), gf_10_5(0..1000), gf_10_6(0..1000), gf_10_7(0..1000)], [gf_11_0(0..1000), gf_11_1(0..1000), gf_11_2(0..1000), gf_11_3(0..1000), gf_11_4(0..1000), gf_11_5(0..1000), gf_11_6(0..1000), gf_11_7(0..1000)], [gf_12_0(0..1000), gf_12_1(0..1000), gf_12_2(0..1000), gf_12_3(0..1000), gf_12_4(0..1000), gf_12_5(0..1000), gf_12_6(0..1000), gf_12_7(0..1000)], [gf_13_0(0..1000), gf_13_1(0..1000), gf_13_2(0..1000), gf_13_3(0..1000), gf_13_4(0..1000), gf_13_5(0..1000), gf_13_6(0..1000), gf_13_7(0..1000)], [gf_14_0(0..1000), gf_14_1(0..1000), gf_14_2(0..1000), gf_14_3(0..1000), gf_14_4(0..1000), gf_14_5(0..1000), gf_14_6(0..1000), gf_14_7(0..1000)], [gf_15_0(0..1000), gf_15_1(0..1000), gf_15_2(0..1000), gf_15_3(0..1000), gf_15_4(0..1000), gf_15_5(0..1000), gf_15_6(0..1000), gf_15_7(0..1000)], [gf_16_0(0..1000), gf_16_1(0..1000), gf_16_2(0..1000), gf_16_3(0..1000), gf_16_4(0..1000), gf_16_5(0..1000), gf_16_6(0..1000), gf_16_7(0..1000)], [gf_17_0(0..1000), gf_17_1(0..1000), gf_17_2(0..1000), gf_17_3(0..1000), gf_17_4(0..1000), gf_17_5(0..1000), gf_17_6(0..1000), gf_17_7(0..1000)], [gf_18_0(0..1000), gf_18_1(0..1000), gf_18_2(0..1000), gf_18_3(0..1000), gf_18_4(0..1000), gf_18_5(0..1000), gf_18_6(0..1000), gf_18_7(0..1000)], [gf_19_0(0..1000), gf_19_1(0..1000), gf_19_2(0..1000), gf_19_3(0..1000), gf_19_4(0..1000), gf_19_5(0..1000), gf_19_6(0..1000), gf_19_7(0..1000)], [gf_20_0(0..1000), gf_20_1(0..1000), gf_20_2(0..1000), gf_20_3(0..1000), gf_20_4(0..1000), gf_20_5(0..1000), gf_20_6(0..1000), gf_20_7(0..1000)], [gf_21_0(0..1000), gf_21_1(0..1000), gf_21_2(0..1000), gf_21_3(0..1000), gf_21_4(0..1000), gf_21_5(0..1000), gf_21_6(0..1000), gf_21_7(0..1000)], [gf_22_0(0..1000), gf_22_1(0..1000), gf_22_2(0..1000), gf_22_3(0..1000), gf_22_4(0..1000), gf_22_5(0..1000), gf_22_6(0..1000), gf_22_7(0..1000)], [gf_23_0(0..1000), gf_23_1(0..1000), gf_23_2(0..1000), gf_23_3(0..1000), gf_23_4(0..1000), gf_23_5(0..1000), gf_23_6(0..1000), gf_23_7(0..1000)], [gf_24_0(0..1000), gf_24_1(0..1000), gf_24_2(0..1000), gf_24_3(0..1000), gf_24_4(0..1000), gf_24_5(0..1000), gf_24_6(0..1000), gf_24_7(0..1000)], [gf_25_0(0..1000), gf_25_1(0..1000), gf_25_2(0..1000), gf_25_3(0..1000), gf_25_4(0..1000), gf_25_5(0..1000), gf_25_6(0..1000), gf_25_7(0..1000)], [gf_26_0(0..1000), gf_26_1(0..1000), gf_26_2(0..1000), gf_26_3(0..1000), gf_26_4(0..1000), gf_26_5(0..1000), gf_26_6(0..1000), gf_26_7(0..1000)], [gf_27_0(0..1000), gf_27_1(0..1000), gf_27_2(0..1000), gf_27_3(0..1000), gf_27_4(0..1000), gf_27_5(0..1000), gf_27_6(0..1000), gf_27_7(0..1000)], [gf_28_0(0..1000), gf_28_1(0..1000), gf_28_2(0..1000), gf_28_3(0..1000), gf_28_4(0..1000), gf_28_5(0..1000), gf_28_6(0..1000), gf_28_7(0..1000)], [gf_29_0(0..1000), gf_29_1(0..1000), gf_29_2(0..1000), gf_29_3(0..1000), gf_29_4(0..1000), gf_29_5(0..1000), gf_29_6(0..1000), gf_29_7(0..1000)], [gf_30_0(0..1000), gf_30_1(0..1000), gf_30_2(0..1000), gf_30_3(0..1000), gf_30_4(0..1000), gf_30_5(0..1000), gf_30_6(0..1000), gf_30_7(0..1000)], [gf_31_0(0..1000), gf_31_1(0..1000), gf_31_2(0..1000), gf_31_3(0..1000), gf_31_4(0..1000), gf_31_5(0..1000), gf_31_6(0..1000), gf_31_7(0..1000)]]\n",
            "[[gv_0_0(0..1000), gv_0_1(0..1000), gv_0_2(0..1000), gv_0_3(0..1000), gv_0_4(0..1000), gv_0_5(0..1000), gv_0_6(0..1000), gv_0_7(0..1000)], [gv_1_0(0..1000), gv_1_1(0..1000), gv_1_2(0..1000), gv_1_3(0..1000), gv_1_4(0..1000), gv_1_5(0..1000), gv_1_6(0..1000), gv_1_7(0..1000)], [gv_2_0(0..1000), gv_2_1(0..1000), gv_2_2(0..1000), gv_2_3(0..1000), gv_2_4(0..1000), gv_2_5(0..1000), gv_2_6(0..1000), gv_2_7(0..1000)], [gv_3_0(0..1000), gv_3_1(0..1000), gv_3_2(0..1000), gv_3_3(0..1000), gv_3_4(0..1000), gv_3_5(0..1000), gv_3_6(0..1000), gv_3_7(0..1000)], [gv_4_0(0..1000), gv_4_1(0..1000), gv_4_2(0..1000), gv_4_3(0..1000), gv_4_4(0..1000), gv_4_5(0..1000), gv_4_6(0..1000), gv_4_7(0..1000)], [gv_5_0(0..1000), gv_5_1(0..1000), gv_5_2(0..1000), gv_5_3(0..1000), gv_5_4(0..1000), gv_5_5(0..1000), gv_5_6(0..1000), gv_5_7(0..1000)], [gv_6_0(0..1000), gv_6_1(0..1000), gv_6_2(0..1000), gv_6_3(0..1000), gv_6_4(0..1000), gv_6_5(0..1000), gv_6_6(0..1000), gv_6_7(0..1000)], [gv_7_0(0..1000), gv_7_1(0..1000), gv_7_2(0..1000), gv_7_3(0..1000), gv_7_4(0..1000), gv_7_5(0..1000), gv_7_6(0..1000), gv_7_7(0..1000)], [gv_8_0(0..1000), gv_8_1(0..1000), gv_8_2(0..1000), gv_8_3(0..1000), gv_8_4(0..1000), gv_8_5(0..1000), gv_8_6(0..1000), gv_8_7(0..1000)], [gv_9_0(0..1000), gv_9_1(0..1000), gv_9_2(0..1000), gv_9_3(0..1000), gv_9_4(0..1000), gv_9_5(0..1000), gv_9_6(0..1000), gv_9_7(0..1000)], [gv_10_0(0..1000), gv_10_1(0..1000), gv_10_2(0..1000), gv_10_3(0..1000), gv_10_4(0..1000), gv_10_5(0..1000), gv_10_6(0..1000), gv_10_7(0..1000)], [gv_11_0(0..1000), gv_11_1(0..1000), gv_11_2(0..1000), gv_11_3(0..1000), gv_11_4(0..1000), gv_11_5(0..1000), gv_11_6(0..1000), gv_11_7(0..1000)], [gv_12_0(0..1000), gv_12_1(0..1000), gv_12_2(0..1000), gv_12_3(0..1000), gv_12_4(0..1000), gv_12_5(0..1000), gv_12_6(0..1000), gv_12_7(0..1000)], [gv_13_0(0..1000), gv_13_1(0..1000), gv_13_2(0..1000), gv_13_3(0..1000), gv_13_4(0..1000), gv_13_5(0..1000), gv_13_6(0..1000), gv_13_7(0..1000)], [gv_14_0(0..1000), gv_14_1(0..1000), gv_14_2(0..1000), gv_14_3(0..1000), gv_14_4(0..1000), gv_14_5(0..1000), gv_14_6(0..1000), gv_14_7(0..1000)], [gv_15_0(0..1000), gv_15_1(0..1000), gv_15_2(0..1000), gv_15_3(0..1000), gv_15_4(0..1000), gv_15_5(0..1000), gv_15_6(0..1000), gv_15_7(0..1000)], [gv_16_0(0..1000), gv_16_1(0..1000), gv_16_2(0..1000), gv_16_3(0..1000), gv_16_4(0..1000), gv_16_5(0..1000), gv_16_6(0..1000), gv_16_7(0..1000)], [gv_17_0(0..1000), gv_17_1(0..1000), gv_17_2(0..1000), gv_17_3(0..1000), gv_17_4(0..1000), gv_17_5(0..1000), gv_17_6(0..1000), gv_17_7(0..1000)], [gv_18_0(0..1000), gv_18_1(0..1000), gv_18_2(0..1000), gv_18_3(0..1000), gv_18_4(0..1000), gv_18_5(0..1000), gv_18_6(0..1000), gv_18_7(0..1000)], [gv_19_0(0..1000), gv_19_1(0..1000), gv_19_2(0..1000), gv_19_3(0..1000), gv_19_4(0..1000), gv_19_5(0..1000), gv_19_6(0..1000), gv_19_7(0..1000)], [gv_20_0(0..1000), gv_20_1(0..1000), gv_20_2(0..1000), gv_20_3(0..1000), gv_20_4(0..1000), gv_20_5(0..1000), gv_20_6(0..1000), gv_20_7(0..1000)], [gv_21_0(0..1000), gv_21_1(0..1000), gv_21_2(0..1000), gv_21_3(0..1000), gv_21_4(0..1000), gv_21_5(0..1000), gv_21_6(0..1000), gv_21_7(0..1000)], [gv_22_0(0..1000), gv_22_1(0..1000), gv_22_2(0..1000), gv_22_3(0..1000), gv_22_4(0..1000), gv_22_5(0..1000), gv_22_6(0..1000), gv_22_7(0..1000)], [gv_23_0(0..1000), gv_23_1(0..1000), gv_23_2(0..1000), gv_23_3(0..1000), gv_23_4(0..1000), gv_23_5(0..1000), gv_23_6(0..1000), gv_23_7(0..1000)], [gv_24_0(0..1000), gv_24_1(0..1000), gv_24_2(0..1000), gv_24_3(0..1000), gv_24_4(0..1000), gv_24_5(0..1000), gv_24_6(0..1000), gv_24_7(0..1000)], [gv_25_0(0..1000), gv_25_1(0..1000), gv_25_2(0..1000), gv_25_3(0..1000), gv_25_4(0..1000), gv_25_5(0..1000), gv_25_6(0..1000), gv_25_7(0..1000)], [gv_26_0(0..1000), gv_26_1(0..1000), gv_26_2(0..1000), gv_26_3(0..1000), gv_26_4(0..1000), gv_26_5(0..1000), gv_26_6(0..1000), gv_26_7(0..1000)], [gv_27_0(0..1000), gv_27_1(0..1000), gv_27_2(0..1000), gv_27_3(0..1000), gv_27_4(0..1000), gv_27_5(0..1000), gv_27_6(0..1000), gv_27_7(0..1000)], [gv_28_0(0..1000), gv_28_1(0..1000), gv_28_2(0..1000), gv_28_3(0..1000), gv_28_4(0..1000), gv_28_5(0..1000), gv_28_6(0..1000), gv_28_7(0..1000)], [gv_29_0(0..1000), gv_29_1(0..1000), gv_29_2(0..1000), gv_29_3(0..1000), gv_29_4(0..1000), gv_29_5(0..1000), gv_29_6(0..1000), gv_29_7(0..1000)], [gv_30_0(0..1000), gv_30_1(0..1000), gv_30_2(0..1000), gv_30_3(0..1000), gv_30_4(0..1000), gv_30_5(0..1000), gv_30_6(0..1000), gv_30_7(0..1000)], [gv_31_0(0..1000), gv_31_1(0..1000), gv_31_2(0..1000), gv_31_3(0..1000), gv_31_4(0..1000), gv_31_5(0..1000), gv_31_6(0..1000), gv_31_7(0..1000)]]\n"
          ]
        }
      ]
    },
    {
      "cell_type": "code",
      "source": [
        "solver = cp_model.CpSolver()\n",
        "status = solver.Solve(model)\n",
        "if status == cp_model.OPTIMAL:\n",
        "    print(\"\\t\", end=\"\")\n",
        "    for i in range(32):\n",
        "        print(solver.Value(federacion[i]), end=\"\\t\")\n",
        "    print()\n",
        "\n",
        "    print(\"\\t\", end=\"\")\n",
        "    for i in range(32):\n",
        "        print(i + 1, end=\"\\t\")\n",
        "    print()\n",
        "\n",
        "    for j in range(8):\n",
        "        print(f\"G{j+1}\", end=\"->\\t\")\n",
        "        for i in range(32):\n",
        "            print(solver.Value(grupos[i][j]), end=\"\\t\")\n",
        "        print()\n",
        "    print()\n",
        "\n",
        "    for j in range(8):\n",
        "        print(f\"G{j+1}\", end=\"->\\t\")\n",
        "        for i in range(32):\n",
        "            print(solver.Value(grupos_bombo[i][j]), end=\"\\t\")\n",
        "        print()\n",
        "    print()\n",
        "\n",
        "    for j in range(8):\n",
        "        print(f\"G{j+1}\", end=\"->\\t\")\n",
        "        for i in range(32):\n",
        "            if solver.Value(grupos[i][j]):\n",
        "                s = f\"{nombre_equipo[i]}({nombre_federacion[solver.Value(federacion[i])-1]})\"\n",
        "                print(f\"{s:20}\", end=\"\\t\")\n",
        "        [print(solver.Value(count[(k, j)]), end=\" \") for k in range(1, 7)]\n",
        "        print(end=\"\\t\")\n",
        "        [print(solver.Value(count_bombos[(k, j)]), end=\" \") for k in range(1, 5)]\n",
        "        print()\n"
      ],
      "metadata": {
        "colab": {
          "base_uri": "https://localhost:8080/"
        },
        "id": "fZ8o65FjGd3Q",
        "outputId": "d93a6656-a6a0-4d84-d14d-6953dfc2a250"
      },
      "execution_count": 16,
      "outputs": [
        {
          "output_type": "stream",
          "name": "stdout",
          "text": [
            "\t1\t1\t1\t1\t1\t1\t1\t1\t1\t1\t1\t1\t1\t2\t2\t2\t2\t2\t3\t3\t3\t3\t3\t4\t4\t4\t4\t5\t5\t5\t6\t6\t\n",
            "\t1\t2\t3\t4\t5\t6\t7\t8\t9\t10\t11\t12\t13\t14\t15\t16\t17\t18\t19\t20\t21\t22\t23\t24\t25\t26\t27\t28\t29\t30\t31\t32\t\n",
            "G1->\t0\t0\t1\t0\t0\t0\t0\t0\t0\t0\t0\t0\t0\t0\t0\t0\t0\t0\t0\t1\t0\t0\t0\t0\t0\t0\t0\t0\t1\t0\t0\t1\t\n",
            "G2->\t1\t0\t0\t0\t0\t0\t0\t0\t1\t0\t0\t0\t0\t0\t1\t0\t0\t0\t0\t0\t0\t0\t1\t0\t0\t0\t0\t0\t0\t0\t0\t0\t\n",
            "G3->\t0\t0\t0\t0\t0\t0\t1\t0\t0\t0\t1\t0\t0\t0\t0\t0\t0\t1\t0\t0\t0\t0\t0\t0\t1\t0\t0\t0\t0\t0\t0\t0\t\n",
            "G4->\t0\t1\t0\t0\t0\t1\t0\t0\t0\t0\t0\t0\t0\t0\t0\t0\t0\t0\t0\t0\t1\t0\t0\t0\t0\t0\t0\t0\t0\t1\t0\t0\t\n",
            "G5->\t0\t0\t0\t0\t0\t0\t0\t1\t0\t0\t0\t1\t0\t1\t0\t0\t0\t0\t0\t0\t0\t1\t0\t0\t0\t0\t0\t0\t0\t0\t0\t0\t\n",
            "G6->\t0\t0\t0\t1\t0\t0\t0\t0\t0\t0\t0\t0\t0\t0\t0\t0\t0\t0\t1\t0\t0\t0\t0\t0\t0\t0\t1\t1\t0\t0\t0\t0\t\n",
            "G7->\t0\t0\t0\t0\t0\t0\t0\t0\t0\t1\t0\t0\t0\t0\t0\t0\t1\t0\t0\t0\t0\t0\t0\t1\t0\t0\t0\t0\t0\t0\t1\t0\t\n",
            "G8->\t0\t0\t0\t0\t1\t0\t0\t0\t0\t0\t0\t0\t1\t0\t0\t1\t0\t0\t0\t0\t0\t0\t0\t0\t0\t1\t0\t0\t0\t0\t0\t0\t\n",
            "\n",
            "G1->\t0\t0\t1\t0\t0\t0\t0\t0\t0\t0\t0\t0\t0\t0\t0\t0\t0\t0\t0\t3\t0\t0\t0\t0\t0\t0\t0\t0\t2\t0\t0\t4\t\n",
            "G2->\t1\t0\t0\t0\t0\t0\t0\t0\t2\t0\t0\t0\t0\t0\t3\t0\t0\t0\t0\t0\t0\t0\t4\t0\t0\t0\t0\t0\t0\t0\t0\t0\t\n",
            "G3->\t0\t0\t0\t0\t0\t0\t2\t0\t0\t0\t3\t0\t0\t0\t0\t0\t0\t4\t0\t0\t0\t0\t0\t0\t1\t0\t0\t0\t0\t0\t0\t0\t\n",
            "G4->\t0\t1\t0\t0\t0\t2\t0\t0\t0\t0\t0\t0\t0\t0\t0\t0\t0\t0\t0\t0\t3\t0\t0\t0\t0\t0\t0\t0\t0\t4\t0\t0\t\n",
            "G5->\t0\t0\t0\t0\t0\t0\t0\t2\t0\t0\t0\t3\t0\t1\t0\t0\t0\t0\t0\t0\t0\t4\t0\t0\t0\t0\t0\t0\t0\t0\t0\t0\t\n",
            "G6->\t0\t0\t0\t1\t0\t0\t0\t0\t0\t0\t0\t0\t0\t0\t0\t0\t0\t0\t3\t0\t0\t0\t0\t0\t0\t0\t4\t2\t0\t0\t0\t0\t\n",
            "G7->\t0\t0\t0\t0\t0\t0\t0\t0\t0\t2\t0\t0\t0\t0\t0\t0\t3\t0\t0\t0\t0\t0\t0\t1\t0\t0\t0\t0\t0\t0\t4\t0\t\n",
            "G8->\t0\t0\t0\t0\t1\t0\t0\t0\t0\t0\t0\t0\t4\t0\t0\t3\t0\t0\t0\t0\t0\t0\t0\t0\t0\t2\t0\t0\t0\t0\t0\t0\t\n",
            "\n",
            "G1->\tInglaterra(UEFA)    \tMarruecos(CAF)      \tEEUU(Concacaf)      \tOFC/Concacaf(Repechaje)\t1 0 1 0 1 1 \t1 1 1 1 \n",
            "G2->\tBélgica(UEFA)       \tSuiza(UEFA)         \tIrán(AFC)           \tGhana(CAF)          \t2 1 1 0 0 0 \t1 1 1 1 \n",
            "G3->\tDinamarca(UEFA)     \tSerbia(UEFA)        \tArabia Saudita(AFC) \tArgentina(Conmebol) \t2 1 0 1 0 0 \t1 1 1 1 \n",
            "G4->\tFrancia(UEFA)       \tPaíses Bajos(UEFA)  \tTúnez(CAF)          \tCanadá(Concacaf)    \t2 0 1 0 1 0 \t1 1 1 1 \n",
            "G5->\tAlemania(UEFA)      \tPolonia(UEFA)       \tCatar(AFC)          \tCamerún(CAF)        \t2 1 1 0 0 0 \t1 1 1 1 \n",
            "G6->\tEspaña(UEFA)        \tSenegal(CAF)        \tEcuador(Conmebol)   \tMéxico(Concacaf)    \t1 0 1 1 1 0 \t1 1 1 1 \n",
            "G7->\tCroacia(UEFA)       \tCorea del Sur(AFC)  \tBrasil(Conmebol)    \tAFC/Conmebol(Repechaje)\t1 1 0 1 0 1 \t1 1 1 1 \n",
            "G8->\tPortugal(UEFA)      \tUEFA1(UEFA)         \tJapón(AFC)          \tUruguay(Conmebol)   \t2 1 0 1 0 0 \t1 1 1 1 \n"
          ]
        }
      ]
    },
    {
      "cell_type": "code",
      "source": [
        "class VarArraySolutionPrinter(cp_model.CpSolverSolutionCallback):\n",
        "  def __init__(self, variables):\n",
        "    cp_model.CpSolverSolutionCallback.__init__(self)\n",
        "    self.__variables = variables\n",
        "    self.__solution_count = 0\n",
        "\n",
        "  def on_solution_callback(self):\n",
        "    self.__solution_count += 1\n",
        "    for j in range(8):\n",
        "      print('G'+str(j+1),end='->\\t')\n",
        "      for i in range(32):\n",
        "        if self.Value(self.__variables[i][j]):\n",
        "          s = nombre_equipo[i]\n",
        "          print(s+' '*(20-len(s)),end='\\t')\n",
        "      print()\n",
        "    print()\n",
        "\n",
        "  def solution_count(self):\n",
        "    return self.__solution_count"
      ],
      "metadata": {
        "id": "xv5cHvpWU-1c"
      },
      "execution_count": null,
      "outputs": []
    },
    {
      "cell_type": "code",
      "source": [
        "solver = cp_model.CpSolver()\n",
        "solution_printer = VarArraySolutionPrinter(grupos)\n",
        "# Enumerate all solutions.\n",
        "solver.parameters.enumerate_all_solutions = True\n",
        "# Solve.\n",
        "status = solver.Solve(model, solution_printer)"
      ],
      "metadata": {
        "id": "ub1lJQWnaSmN"
      },
      "execution_count": null,
      "outputs": []
    }
  ]
}